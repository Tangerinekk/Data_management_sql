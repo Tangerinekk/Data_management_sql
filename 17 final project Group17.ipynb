{
 "cells": [
  {
   "cell_type": "markdown",
   "metadata": {},
   "source": [
    "# Group 17: Final Project"
   ]
  },
  {
   "cell_type": "markdown",
   "metadata": {},
   "source": [
    "# Pre"
   ]
  },
  {
   "cell_type": "code",
   "execution_count": 1,
   "metadata": {},
   "outputs": [],
   "source": [
    "# prepare the start"
   ]
  },
  {
   "cell_type": "code",
   "execution_count": 1,
   "metadata": {},
   "outputs": [],
   "source": [
    "%load_ext sql"
   ]
  },
  {
   "cell_type": "code",
   "execution_count": 3,
   "metadata": {},
   "outputs": [],
   "source": [
    "!dropdb -U student group17_final"
   ]
  },
  {
   "cell_type": "code",
   "execution_count": 4,
   "metadata": {},
   "outputs": [],
   "source": [
    "!createdb -U student group17_final"
   ]
  },
  {
   "cell_type": "code",
   "execution_count": 2,
   "metadata": {},
   "outputs": [
    {
     "data": {
      "text/plain": [
       "'Connected: student@group17_final'"
      ]
     },
     "execution_count": 2,
     "metadata": {},
     "output_type": "execute_result"
    }
   ],
   "source": [
    "%sql postgresql://student@/group17_final"
   ]
  },
  {
   "cell_type": "code",
   "execution_count": 76,
   "metadata": {},
   "outputs": [],
   "source": [
    "from IPython.display import Image"
   ]
  },
  {
   "cell_type": "markdown",
   "metadata": {},
   "source": [
    "# Question 1: Data Description"
   ]
  },
  {
   "cell_type": "code",
   "execution_count": 6,
   "metadata": {},
   "outputs": [],
   "source": [
    "#get the data and using csvcuts to get some information about this dataset and move it to some directory."
   ]
  },
  {
   "cell_type": "code",
   "execution_count": 7,
   "metadata": {},
   "outputs": [
    {
     "name": "stdout",
     "output_type": "stream",
     "text": [
      "--2019-11-30 03:12:04--  https://s3.amazonaws.com/gwu.workshop.guiqi-2019/NYC_Restaurant_Inspection_1_1.csv\n",
      "Resolving s3.amazonaws.com (s3.amazonaws.com)... 52.216.99.157\n",
      "Connecting to s3.amazonaws.com (s3.amazonaws.com)|52.216.99.157|:443... connected.\n",
      "HTTP request sent, awaiting response... 200 OK\n",
      "Length: 196530753 (187M) [text/csv]\n",
      "Saving to: ‘NYC_Restaurant_Inspection_1_1.csv’\n",
      "\n",
      "NYC_Restaurant_Insp 100%[===================>] 187.43M  48.8MB/s    in 4.0s    \n",
      "\n",
      "2019-11-30 03:12:08 (46.5 MB/s) - ‘NYC_Restaurant_Inspection_1_1.csv’ saved [196530753/196530753]\n",
      "\n"
     ]
    }
   ],
   "source": [
    "!wget https://s3.amazonaws.com/gwu.workshop.guiqi-2019/NYC_Restaurant_Inspection_1_1.csv"
   ]
  },
  {
   "cell_type": "code",
   "execution_count": 8,
   "metadata": {},
   "outputs": [],
   "source": [
    "!cp NYC_Restaurant_Inspection_1_1.csv /tmp/NYC_Restaurant_Inspection_1_1.csv"
   ]
  },
  {
   "cell_type": "code",
   "execution_count": 9,
   "metadata": {},
   "outputs": [
    {
     "name": "stdout",
     "output_type": "stream",
     "text": [
      "397025 NYC_Restaurant_Inspection_1_1.csv\n"
     ]
    }
   ],
   "source": [
    "!wc -l NYC_Restaurant_Inspection_1_1.csv"
   ]
  },
  {
   "cell_type": "code",
   "execution_count": 10,
   "metadata": {},
   "outputs": [
    {
     "name": "stdout",
     "output_type": "stream",
     "text": [
      "  1: ID\n",
      "  2: NAME\n",
      "  3: DISTRICT\n",
      "  4: BUILDING\n",
      "  5: STREET\n",
      "  6: ZIPCODE\n",
      "  7: PHONE\n",
      "  8: CUISINE_DESCRIPTION\n",
      "  9: INSPECTION_DATE\n",
      " 10: INSPECTION_MONTH\n",
      " 11: INSPECTION_DAY\n",
      " 12: INSPECTION_YEAR\n",
      " 13: INSPECTION_DAY_OF_WEEK\n",
      " 14: ACTION\n",
      " 15: VIOLATION_CODE\n",
      " 16: VIOLATION_DESCRIPTION\n",
      " 17: CRITICAL_FLAG\n",
      " 18: SCORE\n",
      " 19: GRADE\n",
      " 20: GRADE_DATE\n",
      " 21: GRADE_MONTH\n",
      " 22: GRADE_DAY\n",
      " 23: GRADE_YEAR\n",
      " 24: GRADE_DAY_OF_WEEK\n",
      " 25: INSPECTION_TYPE1\n",
      " 26: INSPECTION_TYPE2\n",
      " 27: Latitude\n",
      " 28: Longitude\n",
      " 29: LAT_LONG\n"
     ]
    }
   ],
   "source": [
    "!csvcut -n NYC_Restaurant_Inspection_1_1.csv"
   ]
  },
  {
   "cell_type": "code",
   "execution_count": 11,
   "metadata": {},
   "outputs": [],
   "source": [
    "# using csvstat to get this dataset's basic information on 3700 rows"
   ]
  },
  {
   "cell_type": "code",
   "execution_count": 12,
   "metadata": {},
   "outputs": [
    {
     "name": "stdout",
     "output_type": "stream",
     "text": [
      "  1. \"ID\"\n",
      "\n",
      "\tType of data:          Number\n",
      "\tContains null values:  False\n",
      "\tUnique values:         3348\n",
      "\tSmallest value:        30,112,340\n",
      "\tLargest value:         50,101,105\n",
      "\tSum:                   170,509,938,138\n",
      "\tMean:                  46,096,225.504\n",
      "\tMedian:                50,005,729\n",
      "\tStDev:                 4,418,794.404\n",
      "\tMost common values:    50,019,198 (4x)\n",
      "\t                       41,703,394 (3x)\n",
      "\t                       50,008,729 (3x)\n",
      "\t                       50,037,940 (3x)\n",
      "\t                       41,387,224 (3x)\n",
      "\n",
      "  2. \"NAME\"\n",
      "\n",
      "\tType of data:          Text\n",
      "\tContains null values:  True (excluded from calculations)\n",
      "\tUnique values:         3061\n",
      "\tLongest value:         61 characters\n",
      "\tMost common values:    DUNKIN' (33x)\n",
      "\t                       STARBUCKS (27x)\n",
      "\t                       SUBWAY (27x)\n",
      "\t                       MCDONALD'S (15x)\n",
      "\t                       KENNEDY FRIED CHICKEN (12x)\n",
      "\n",
      "  3. \"DISTRICT\"\n",
      "\n",
      "\tType of data:          Text\n",
      "\tContains null values:  False\n",
      "\tUnique values:         6\n",
      "\tLongest value:         13 characters\n",
      "\tMost common values:    Manhattan (1448x)\n",
      "\t                       Brooklyn (932x)\n",
      "\t                       Queens (884x)\n",
      "\t                       Bronx (311x)\n",
      "\t                       Staten Island (122x)\n",
      "\n",
      "  4. \"BUILDING\"\n",
      "\n",
      "\tType of data:          Number\n",
      "\tContains null values:  True (excluded from calculations)\n",
      "\tUnique values:         1984\n",
      "\tSmallest value:        0\n",
      "\tLargest value:         14,471,451\n",
      "\tSum:                   28,950,989\n",
      "\tMean:                  8,050.887\n",
      "\tMedian:                801\n",
      "\tStDev:                 242,424.676\n",
      "\tMost common values:    None (103x)\n",
      "\t                       1 (21x)\n",
      "\t                       0 (19x)\n",
      "\t                       18 (15x)\n",
      "\t                       2 (14x)\n",
      "\n",
      "  5. \"STREET\"\n",
      "\n",
      "\tType of data:          Text\n",
      "\tContains null values:  True (excluded from calculations)\n",
      "\tUnique values:         1228\n",
      "\tLongest value:         33 characters\n",
      "\tMost common values:    BROADWAY (125x)\n",
      "\t                       3RD AVE (45x)\n",
      "\t                       ROOSEVELT AVE (36x)\n",
      "\t                       5TH AVE (35x)\n",
      "\t                       3 AVENUE (34x)\n",
      "\n",
      "  6. \"ZIPCODE\"\n",
      "\n",
      "\tType of data:          Number\n",
      "\tContains null values:  True (excluded from calculations)\n",
      "\tUnique values:         186\n",
      "\tSmallest value:        10,001\n",
      "\tLargest value:         11,693\n",
      "\tSum:                   39,031,286\n",
      "\tMean:                  10,687.647\n",
      "\tMedian:                10,472\n",
      "\tStDev:                 598.345\n",
      "\tMost common values:    10,013 (90x)\n",
      "\t                       10,003 (86x)\n",
      "\t                       10,019 (80x)\n",
      "\t                       10,001 (79x)\n",
      "\t                       10,036 (78x)\n",
      "\n",
      "  7. \"PHONE\"\n",
      "\n",
      "\tType of data:          Text\n",
      "\tContains null values:  False\n",
      "\tUnique values:         3329\n",
      "\tLongest value:         10 characters\n",
      "\tMost common values:    2125457867 (5x)\n",
      "\t                       7188198205 (4x)\n",
      "\t                       2127142222 (3x)\n",
      "\t                       2122213044 (3x)\n",
      "\t                       9174201036 (3x)\n",
      "\n",
      "  8. \"CUISINE_DESCRIPTION\"\n",
      "\n",
      "\tType of data:          Text\n",
      "\tContains null values:  False\n",
      "\tUnique values:         76\n",
      "\tLongest value:         66 characters\n",
      "\tMost common values:    American (770x)\n",
      "\t                       Chinese (376x)\n",
      "\t                       Café/Coffee/Tea (189x)\n",
      "\t                       \"Latin (Cuban, Dominican, Puerto Rican, South & Central American)\" (168x)\n",
      "\t                       Pizza (167x)\n",
      "\n",
      "  9. \"INSPECTION_DATE\"\n",
      "\n",
      "\tType of data:          Date\n",
      "\tContains null values:  False\n",
      "\tUnique values:         946\n",
      "\tSmallest value:        1900-01-01\n",
      "\tLargest value:         2019-11-22\n",
      "\tMost common values:    2019-08-01 (13x)\n",
      "\t                       2019-05-22 (13x)\n",
      "\t                       2019-04-09 (12x)\n",
      "\t                       2019-07-03 (12x)\n",
      "\t                       2018-04-18 (12x)\n",
      "\n",
      " 10. \"INSPECTION_MONTH\"\n",
      "\n",
      "\tType of data:          Number\n",
      "\tContains null values:  False\n",
      "\tUnique values:         12\n",
      "\tSmallest value:        1\n",
      "\tLargest value:         12\n",
      "\tSum:                   24,252\n",
      "\tMean:                  6.556\n",
      "\tMedian:                7\n",
      "\tStDev:                 3.277\n",
      "\tMost common values:    10 (379x)\n",
      "\t                       8 (377x)\n",
      "\t                       5 (339x)\n",
      "\t                       4 (335x)\n",
      "\t                       3 (329x)\n",
      "\n",
      " 11. \"INSPECTION_DAY\"\n",
      "\n",
      "\tType of data:          Number\n",
      "\tContains null values:  False\n",
      "\tUnique values:         31\n",
      "\tSmallest value:        1\n",
      "\tLargest value:         31\n",
      "\tSum:                   58,127\n",
      "\tMean:                  15.714\n",
      "\tMedian:                16\n",
      "\tStDev:                 8.897\n",
      "\tMost common values:    1 (147x)\n",
      "\t                       7 (141x)\n",
      "\t                       20 (140x)\n",
      "\t                       27 (131x)\n",
      "\t                       19 (130x)\n",
      "\n",
      " 12. \"INSPECTION_YEAR\"\n",
      "\n",
      "\tType of data:          Number\n",
      "\tContains null values:  False\n",
      "\tUnique values:         6\n",
      "\tSmallest value:        1,900\n",
      "\tLargest value:         2,019\n",
      "\tSum:                   7,463,399\n",
      "\tMean:                  2,017.68\n",
      "\tMedian:                2,018\n",
      "\tStDev:                 5.893\n",
      "\tMost common values:    2,019 (1352x)\n",
      "\t                       2,018 (1200x)\n",
      "\t                       2,017 (807x)\n",
      "\t                       2,016 (327x)\n",
      "\t                       1,900 (9x)\n",
      "\n",
      " 13. \"INSPECTION_DAY_OF_WEEK\"\n",
      "\n",
      "\tType of data:          Date\n",
      "\tContains null values:  False\n",
      "\tUnique values:         7\n",
      "\tSmallest value:        0001-01-02\n",
      "\tLargest value:         0001-01-08\n",
      "\tMost common values:    0001-01-03 (905x)\n",
      "\t                       0001-01-04 (824x)\n",
      "\t                       0001-01-02 (720x)\n",
      "\t                       0001-01-08 (653x)\n",
      "\t                       0001-01-05 (469x)\n",
      "\n",
      " 14. \"ACTION\"\n",
      "\n",
      "\tType of data:          Text\n",
      "\tContains null values:  True (excluded from calculations)\n",
      "\tUnique values:         6\n",
      "\tLongest value:         131 characters\n",
      "\tMost common values:    Violations were cited in the following area(s). (3465x)\n",
      "\t                       Establishment Closed by DOHMH.  Violations were cited in the following area(s) and those requiring immediate action were addressed. (146x)\n",
      "\t                       No violations were recorded at the time of this inspection. (35x)\n",
      "\t                       Establishment re-opened by DOHMH (30x)\n",
      "\t                       Establishment re-closed by DOHMH (14x)\n",
      "\n",
      " 15. \"VIOLATION_CODE\"\n",
      "\n",
      "\tType of data:          Text\n",
      "\tContains null values:  True (excluded from calculations)\n",
      "\tUnique values:         78\n",
      "\tLongest value:         4 characters\n",
      "\tMost common values:    10F (547x)\n",
      "\t                       08A (404x)\n",
      "\t                       04L (271x)\n",
      "\t                       06D (263x)\n",
      "\t                       02G (225x)\n",
      "\n",
      " 16. \"VIOLATION_DESCRIPTION\"\n",
      "\n",
      "\tType of data:          Text\n",
      "\tContains null values:  True (excluded from calculations)\n",
      "\tUnique values:         69\n",
      "\tLongest value:         362 characters\n",
      "\tMost common values:    \"Non-food contact surface improperly constructed. Unacceptable material used. Non-food contact surface or equipment improperly maintained and/or not properly sealed, raised, spaced or movable to allow accessibility for cleaning on all sides, above and underneath the unit.\" (547x)\n",
      "\t                       Facility not vermin proof. Harborage or conditions conducive to attracting vermin to the premises and/or allowing vermin to exist. (404x)\n",
      "\t                       Evidence of mice or live mice present in facility's food and/or non-food areas. (271x)\n",
      "\t                       \"Food contact surface not properly washed, rinsed and sanitized after each use and following any activity when contamination may have occurred.\" (263x)\n",
      "\t                       Cold food item held above 41º F (smoked fish and reduced oxygen packaged foods above 38 ºF) except during necessary preparation. (225x)\n",
      "\n",
      " 17. \"CRITICAL_FLAG\"\n",
      "\n",
      "\tType of data:          Boolean\n",
      "\tContains null values:  True (excluded from calculations)\n",
      "\tUnique values:         3\n",
      "\tMost common values:    True (2015x)\n",
      "\t                       False (1605x)\n",
      "\t                       None (79x)\n",
      "\n",
      " 18. \"SCORE\"\n",
      "\n",
      "\tType of data:          Number\n",
      "\tContains null values:  True (excluded from calculations)\n",
      "\tUnique values:         96\n",
      "\tSmallest value:        -1\n",
      "\tLargest value:         131\n",
      "\tSum:                   71,824\n",
      "\tMean:                  20.416\n",
      "\tMedian:                15\n",
      "\tStDev:                 15.007\n",
      "\tMost common values:    12 (388x)\n",
      "\t                       13 (291x)\n",
      "\t                       10 (226x)\n",
      "\t                       11 (202x)\n",
      "\t                       None (181x)\n",
      "\n",
      " 19. \"GRADE\"\n",
      "\n",
      "\tType of data:          Text\n",
      "\tContains null values:  True (excluded from calculations)\n",
      "\tUnique values:         7\n",
      "\tLongest value:         1 characters\n",
      "\tMost common values:    None (1842x)\n",
      "\t                       A (1489x)\n",
      "\t                       B (216x)\n",
      "\t                       C (83x)\n",
      "\t                       Z (43x)\n",
      "\n",
      " 20. \"GRADE_DATE\"\n",
      "\n",
      "\tType of data:          Date\n",
      "\tContains null values:  True (excluded from calculations)\n",
      "\tUnique values:         766\n",
      "\tSmallest value:        2015-11-20\n",
      "\tLargest value:         2019-11-22\n",
      "\tMost common values:    None (1849x)\n",
      "\t                       2019-05-22 (9x)\n",
      "\t                       2019-05-15 (9x)\n",
      "\t                       2017-10-12 (8x)\n",
      "\t                       2018-03-15 (7x)\n",
      "\n",
      " 21. \"GRADE_MONTH\"\n",
      "\n",
      "\tType of data:          Number\n",
      "\tContains null values:  True (excluded from calculations)\n",
      "\tUnique values:         13\n",
      "\tSmallest value:        1\n",
      "\tLargest value:         12\n",
      "\tSum:                   12,086\n",
      "\tMean:                  6.533\n",
      "\tMedian:                6\n",
      "\tStDev:                 3.252\n",
      "\tMost common values:    None (1849x)\n",
      "\t                       5 (202x)\n",
      "\t                       10 (187x)\n",
      "\t                       8 (173x)\n",
      "\t                       6 (169x)\n",
      "\n",
      " 22. \"GRADE_DAY\"\n",
      "\n",
      "\tType of data:          Number\n",
      "\tContains null values:  True (excluded from calculations)\n",
      "\tUnique values:         32\n",
      "\tSmallest value:        1\n",
      "\tLargest value:         31\n",
      "\tSum:                   29,377\n",
      "\tMean:                  15.879\n",
      "\tMedian:                16\n",
      "\tStDev:                 8.816\n",
      "\tMost common values:    None (1849x)\n",
      "\t                       7 (73x)\n",
      "\t                       20 (73x)\n",
      "\t                       24 (70x)\n",
      "\t                       13 (68x)\n",
      "\n",
      " 23. \"GRADE_YEAR\"\n",
      "\n",
      "\tType of data:          Number\n",
      "\tContains null values:  True (excluded from calculations)\n",
      "\tUnique values:         6\n",
      "\tSmallest value:        2,015\n",
      "\tLargest value:         2,019\n",
      "\tSum:                   3,733,220\n",
      "\tMean:                  2,017.957\n",
      "\tMedian:                2,018\n",
      "\tStDev:                 0.974\n",
      "\tMost common values:    None (1849x)\n",
      "\t                       2,019 (666x)\n",
      "\t                       2,018 (607x)\n",
      "\t                       2,017 (411x)\n",
      "\t                       2,016 (163x)\n",
      "\n",
      " 24. \"GRADE_DAY_OF_WEEK\"\n",
      "\n",
      "\tType of data:          Date\n",
      "\tContains null values:  True (excluded from calculations)\n",
      "\tUnique values:         8\n",
      "\tSmallest value:        0001-01-02\n",
      "\tLargest value:         0001-01-08\n",
      "\tMost common values:    None (1849x)\n",
      "\t                       0001-01-03 (431x)\n",
      "\t                       0001-01-04 (414x)\n",
      "\t                       0001-01-02 (378x)\n",
      "\t                       0001-01-08 (312x)\n",
      "\n",
      " 25. \"INSPECTION_TYPE1\"\n",
      "\n",
      "\tType of data:          Text\n",
      "\tContains null values:  True (excluded from calculations)\n",
      "\tUnique values:         9\n",
      "\tLongest value:         29 characters\n",
      "\tMost common values:    Cycle Inspection  (3075x)\n",
      "\t                       Pre-permit (Operational)  (404x)\n",
      "\t                       Administrative Miscellaneous  (112x)\n",
      "\t                       Smoke-Free Air Act  (32x)\n",
      "\t                       Pre-permit (Non-operational)  (29x)\n",
      "\n",
      " 26. \"INSPECTION_TYPE2\"\n",
      "\n",
      "\tType of data:          Text\n",
      "\tContains null values:  True (excluded from calculations)\n",
      "\tUnique values:         6\n",
      "\tLongest value:         28 characters\n",
      "\tMost common values:    Initial Inspection (2608x)\n",
      "\t                       Re-inspection (1018x)\n",
      "\t                       Reopening Inspection (45x)\n",
      "\t                       Compliance Inspection (17x)\n",
      "\t                       None (9x)\n",
      "\n",
      " 27. \"Latitude\"\n",
      "\n",
      "\tType of data:          Number\n",
      "\tContains null values:  True (excluded from calculations)\n",
      "\tUnique values:         3202\n",
      "\tSmallest value:        0\n",
      "\tLargest value:         40.911\n",
      "\tSum:                   148,615.28\n",
      "\tMean:                  40.221\n",
      "\tMedian:                40.731\n",
      "\tStDev:                 4.517\n",
      "\tMost common values:    0 (46x)\n",
      "\t                       40.648 (10x)\n",
      "\t                       40.759 (9x)\n",
      "\t                       40.774 (6x)\n",
      "\t                       40.75 (5x)\n",
      "\n",
      " 28. \"Longitude\"\n",
      "\n",
      "\tType of data:          Number\n",
      "\tContains null values:  True (excluded from calculations)\n",
      "\tUnique values:         3202\n",
      "\tSmallest value:        -74.248\n",
      "\tLargest value:         0\n",
      "\tSum:                   -269,816.681\n",
      "\tMean:                  -73.022\n",
      "\tMedian:                -73.958\n",
      "\tStDev:                 8.2\n",
      "\tMost common values:    0 (46x)\n",
      "\t                       -73.788 (10x)\n",
      "\t                       -73.833 (9x)\n",
      "\t                       -73.877 (6x)\n",
      "\t                       -73.991 (5x)\n",
      "\n",
      " 29. \"LAT_LONG\"\n",
      "\n",
      "\tType of data:          Text\n",
      "\tContains null values:  False\n",
      "\tUnique values:         3202\n",
      "\tLongest value:         32 characters\n",
      "\tMost common values:    0,0 (46x)\n",
      "\t                       40.648312826068,-73.788281497594 (10x)\n",
      "\t                       40.758501995257,-73.833241808988 (9x)\n",
      "\t                       40.774414029772,-73.877293351848 (6x)\n",
      "\t                       40.750009774218,-73.991345194031 (5x)\n",
      "\n",
      "Row count: 3699\n"
     ]
    }
   ],
   "source": [
    "!head -n 3700 NYC_Restaurant_Inspection_1_1.csv |csvstat"
   ]
  },
  {
   "cell_type": "markdown",
   "metadata": {},
   "source": [
    "# Question 2 :Data Wrangling"
   ]
  },
  {
   "cell_type": "markdown",
   "metadata": {},
   "source": [
    "### We use Trifacata to do some data wrangling. The receipts are as follows:"
   ]
  },
  {
   "cell_type": "markdown",
   "metadata": {},
   "source": [
    "```\n",
    "rename type: manual mapping: [CAMIS,'ID']\n",
    "rename type: manual mapping: [DBA,'NAME']\n",
    "rename type: manual mapping: [BORO,'DISTRICT']\n",
    "drop col: BIN action: Drop\n",
    "drop col: {Council District} action: Drop\n",
    "drop col: {Community Board} action: Drop\n",
    "drop col: BBL action: Drop\n",
    "drop col: {RECORD DATE} action: Drop\n",
    "drop col: {Census Tract} action: Drop\n",
    "drop col: NTA action: Drop\n",
    "derive type: single value: dateformat({INSPECTION DATE}, 'EEE, MM\\/dd\\/yyyy HH:mm:ss.SSS') as: 'dateformat_INSPECTION DATE'\n",
    "replacepatterns col: {dateformat_INSPECTION DATE} with: '' on: ` 00:00:00.000` global: true\n",
    "extractpatterns type: custom col: {dateformat_INSPECTION DATE} on: `{dayofweek-abbrev}`\n",
    "splitpatterns col: {dateformat_INSPECTION DATE} type: on on: '\\/' limit: 2\n",
    "extractpatterns type: custom col: {dateformat_INSPECTION DATE2} on: `{digit}{2}`\n",
    "drop col: {dateformat_INSPECTION DATE2} action: Drop\n",
    "rename type: manual mapping: [{dateformat_INSPECTION DATE5},'INSPECTION MONTH']\n",
    "settype col: {INSPECTION MONTH} type: Integer\n",
    "rename type: manual mapping: [{dateformat_INSPECTION DATE3},'INSPECTION DAY']\n",
    "settype col: {dateformat_INSPECTION DATE4} type: Integer\n",
    "rename type: manual mapping: [{dateformat_INSPECTION DATE4},'INSPECTION YEAR']\n",
    "rename type: manual mapping: [{dateformat_INSPECTION DATE1},'INSPECTION DAY OF WEEK']\n",
    "derive type: single value: dateformat({GRADE DATE}, 'EEE, MM\\/dd\\/yyyy HH:mm:ss.SSS') as: 'dateformat_GRADE DATE'\n",
    "replacepatterns col: {dateformat_GRADE DATE} with: '' on: ` 00:00:00.000` global: true\n",
    "splitpatterns col: {dateformat_GRADE DATE} type: on on: '\\/' limit: 2\n",
    "extractpatterns type: custom col: {dateformat_GRADE DATE1} on: `{alpha}{3}, `\n",
    "extractpatterns type: custom col: {dateformat_GRADE DATE1} on: `{digit}{2}`\n",
    "move col: {dateformat_GRADE DATE4} position: after after: {dateformat_GRADE DATE3}\n",
    "drop col: {dateformat_GRADE DATE1} action: Drop\n",
    "rename type: manual mapping: [{dateformat_GRADE DATE5},'GRADE MONTH']\n",
    "rename type: manual mapping: [{dateformat_GRADE DATE2},'GRADE DAY']\n",
    "rename type: manual mapping: [{dateformat_GRADE DATE3},'GRADE YEAR']\n",
    "rename type: manual mapping: [{dateformat_GRADE DATE4},'GRADE DAY OF WEEK']\n",
    "settype col: {GRADE MONTH} type: Integer\n",
    "settype col: {GRADE YEAR} type: Integer\n",
    "rename type: manual mapping: [{CUISINE DESCRIPTION},'CUISINE_DESCRIPTION']\n",
    "rename type: manual mapping: [{INSPECTION DATE},'INSPECTION_DATE']\n",
    "rename type: manual mapping: [{INSPECTION MONTH},'INSPECTION_MONTH']\n",
    "rename type: manual mapping: [{INSPECTION DAY},'INSPECTION_DAY']\n",
    "rename type: manual mapping: [{INSPECTION YEAR},'INSPECTION_YEAR']\n",
    "rename type: manual mapping: [{INSPECTION DAY OF WEEK},'INSPECTION_DAY_OF_WEEK']\n",
    "rename type: manual mapping: [{VIOLATION CODE},'VIOLATION_CODE']\n",
    "rename type: manual mapping: [{VIOLATION DESCRIPTION},'VIOLATION_DESCRIPTION']\n",
    "rename type: manual mapping: [{CRITICAL FLAG},'CRITICAL_FLAG']\n",
    "rename type: manual mapping: [{GRADE DATE},'GRADE_DATE']\n",
    "rename type: manual mapping: [{GRADE MONTH},'GRADE_MONTH']\n",
    "rename type: manual mapping: [{GRADE DAY},'GRADE_DAY']\n",
    "rename type: manual mapping: [{GRADE YEAR},'GRADE_YEAR']\n",
    "rename type: manual mapping: [{GRADE DAY OF WEEK},'GRADE_DAY_OF_WEEK']\n",
    "rename type: manual mapping: [{INSPECTION TYPE},'INSPECTION_TYPE']\n",
    "```"
   ]
  },
  {
   "cell_type": "markdown",
   "metadata": {},
   "source": [
    "## Create tables"
   ]
  },
  {
   "cell_type": "code",
   "execution_count": 23,
   "metadata": {},
   "outputs": [
    {
     "name": "stdout",
     "output_type": "stream",
     "text": [
      " * postgresql://student@/group17_final\n",
      "Done.\n",
      "Done.\n"
     ]
    },
    {
     "data": {
      "text/plain": [
       "[]"
      ]
     },
     "execution_count": 23,
     "metadata": {},
     "output_type": "execute_result"
    }
   ],
   "source": [
    "%%sql\n",
    "DROP TABLE IF EXISTS NYC_INSPECT;\n",
    "\n",
    "CREATE TABLE NYC_INSPECT(\n",
    "   ID INTEGER NOT NULL,\n",
    "   NAME VARCHAR(100),\n",
    "   DISTRICT VARCHAR(100),\n",
    "   BUILDING VARCHAR(100),\n",
    "   STREET VARCHAR(100),\n",
    "   ZIPCODE VARCHAR(100),\n",
    "   PHONE VARCHAR(100),\n",
    "   CUISINE_DESCRIPTION VARCHAR(100),\n",
    "   INSPECTION_DATE VARCHAR(100),\n",
    "   INSPECTION_MONTH VARCHAR(100),\n",
    "   INSPECTION_DAY VARCHAR(100),\n",
    "   INSPECTION_YEAR VARCHAR(100),\n",
    "   INSPECTION_DAY_OF_WEEK VARCHAR(5),\n",
    "   ACTION VARCHAR(300),\n",
    "   VIOLATION_CODE VARCHAR(200),\n",
    "   VIOLATION_DESCRIPTION VARCHAR(400),\n",
    "   CRITICAL_FLAG VARCHAR(100),\n",
    "   SCORE varchar(20),\n",
    "   GRADE CHAR(2),\n",
    "   GRADE_DATE VARCHAR(100),\n",
    "   GRADE_MONTH VARCHAR(100),\n",
    "   GRADE_DAY VARCHAR(100),\n",
    "   GRADE_YEAR VARCHAR(100),\n",
    "   GRADE_DAY_OF_WEEK VARCHAR(5),\n",
    "   INSPECTION_TYPE1 VARCHAR(100),\n",
    "   INSPECTION_TYPE2 VARCHAR(100),\n",
    "   LATITUDE VARCHAR(100),\n",
    "   LONGITUDE VARCHAR(100),\n",
    "   LAT_LONG VARCHAR(400)\n",
    ");"
   ]
  },
  {
   "cell_type": "code",
   "execution_count": 24,
   "metadata": {},
   "outputs": [
    {
     "name": "stdout",
     "output_type": "stream",
     "text": [
      " * postgresql://student@/group17_final\n",
      "397024 rows affected.\n"
     ]
    },
    {
     "data": {
      "text/plain": [
       "[]"
      ]
     },
     "execution_count": 24,
     "metadata": {},
     "output_type": "execute_result"
    }
   ],
   "source": [
    "%%sql\n",
    "COPY NYC_INSPECT FROM '/tmp/NYC_Restaurant_Inspection_1_1.csv'\n",
    "CSV\n",
    "HEADER;"
   ]
  },
  {
   "cell_type": "code",
   "execution_count": 25,
   "metadata": {},
   "outputs": [
    {
     "name": "stdout",
     "output_type": "stream",
     "text": [
      " * postgresql://student@/group17_final\n",
      "Done.\n"
     ]
    },
    {
     "data": {
      "text/plain": [
       "[]"
      ]
     },
     "execution_count": 25,
     "metadata": {},
     "output_type": "execute_result"
    }
   ],
   "source": [
    "%%sql\n",
    "ALTER TABLE nyc_inspect ALTER COLUMN SCORE TYPE NUMERIC(5,2) USING (NULLIF(trim(SCORE),'')::numeric)"
   ]
  },
  {
   "cell_type": "markdown",
   "metadata": {},
   "source": [
    "## Create star schema"
   ]
  },
  {
   "cell_type": "code",
   "execution_count": 80,
   "metadata": {},
   "outputs": [],
   "source": [
    "from IPython.display import Image"
   ]
  },
  {
   "cell_type": "code",
   "execution_count": 81,
   "metadata": {},
   "outputs": [
    {
     "data": {
      "text/html": [
       "<img src=\"https://github.com/lingx26/lingx26/blob/master/17.jpg?raw=true\"/>"
      ],
      "text/plain": [
       "<IPython.core.display.Image object>"
      ]
     },
     "execution_count": 81,
     "metadata": {},
     "output_type": "execute_result"
    }
   ],
   "source": [
    "Image(url=\"https://github.com/lingx26/lingx26/blob/master/17.jpg?raw=true\")"
   ]
  },
  {
   "cell_type": "markdown",
   "metadata": {},
   "source": [
    "## create information table"
   ]
  },
  {
   "cell_type": "code",
   "execution_count": 28,
   "metadata": {},
   "outputs": [
    {
     "name": "stdout",
     "output_type": "stream",
     "text": [
      " * postgresql://student@/group17_final\n",
      "Done.\n",
      "Done.\n"
     ]
    },
    {
     "data": {
      "text/plain": [
       "[]"
      ]
     },
     "execution_count": 28,
     "metadata": {},
     "output_type": "execute_result"
    }
   ],
   "source": [
    "%%sql\n",
    "DROP TABLE IF EXISTS INFO;\n",
    "\n",
    "CREATE TABLE INFO(\n",
    " key SERIAL PRIMARY KEY,\n",
    " ID INTEGER,\n",
    " NAME VARCHAR(200),\n",
    " PHONE VARCHAR(400)\n",
    ");"
   ]
  },
  {
   "cell_type": "code",
   "execution_count": 29,
   "metadata": {},
   "outputs": [
    {
     "name": "stdout",
     "output_type": "stream",
     "text": [
      " * postgresql://student@/group17_final\n",
      "27174 rows affected.\n"
     ]
    },
    {
     "data": {
      "text/plain": [
       "[]"
      ]
     },
     "execution_count": 29,
     "metadata": {},
     "output_type": "execute_result"
    }
   ],
   "source": [
    "%%sql\n",
    "INSERT INTO INFO(ID,NAME,PHONE)\n",
    "SELECT DISTINCT ID,NAME,PHONE\n",
    "from nyc_inspect;"
   ]
  },
  {
   "cell_type": "code",
   "execution_count": 30,
   "metadata": {},
   "outputs": [
    {
     "name": "stdout",
     "output_type": "stream",
     "text": [
      " * postgresql://student@/group17_final\n",
      "Done.\n"
     ]
    },
    {
     "data": {
      "text/plain": [
       "[]"
      ]
     },
     "execution_count": 30,
     "metadata": {},
     "output_type": "execute_result"
    }
   ],
   "source": [
    "%%sql\n",
    "ALTER TABLE nyc_inspect\n",
    "ADD COLUMN information_key INTEGER,\n",
    "ADD CONSTRAINT fk_info\n",
    "    FOREIGN KEY (information_key)\n",
    "    REFERENCES INFO(key);"
   ]
  },
  {
   "cell_type": "code",
   "execution_count": 31,
   "metadata": {},
   "outputs": [
    {
     "name": "stdout",
     "output_type": "stream",
     "text": [
      " * postgresql://student@/group17_final\n",
      "397024 rows affected.\n"
     ]
    },
    {
     "data": {
      "text/plain": [
       "[]"
      ]
     },
     "execution_count": 31,
     "metadata": {},
     "output_type": "execute_result"
    }
   ],
   "source": [
    "%%sql \n",
    "UPDATE nyc_inspect\n",
    "SET INFORMATION_KEY = INFO.KEY\n",
    "from INFO\n",
    "WHERE INFO.ID = nyc_inspect.ID"
   ]
  },
  {
   "cell_type": "markdown",
   "metadata": {},
   "source": [
    "## create date table"
   ]
  },
  {
   "cell_type": "code",
   "execution_count": 33,
   "metadata": {},
   "outputs": [
    {
     "name": "stdout",
     "output_type": "stream",
     "text": [
      " * postgresql://student@/group17_final\n",
      "Done.\n",
      "Done.\n"
     ]
    },
    {
     "data": {
      "text/plain": [
       "[]"
      ]
     },
     "execution_count": 33,
     "metadata": {},
     "output_type": "execute_result"
    }
   ],
   "source": [
    "%%sql\n",
    "DROP TABLE IF EXISTS DATE;\n",
    "\n",
    "CREATE TABLE DATE(\n",
    "  key SERIAL PRIMARY KEY,\n",
    "  DATE VARCHAR(50),\n",
    "  MONTH VARCHAR(50),\n",
    "  DAY VARCHAR(50),\n",
    "  YEAR VARCHAR(50),\n",
    "  DAY_OF_WEEK VARCHAR(50)\n",
    ");"
   ]
  },
  {
   "cell_type": "code",
   "execution_count": 34,
   "metadata": {},
   "outputs": [
    {
     "name": "stdout",
     "output_type": "stream",
     "text": [
      " * postgresql://student@/group17_final\n",
      "1314 rows affected.\n"
     ]
    },
    {
     "data": {
      "text/plain": [
       "[]"
      ]
     },
     "execution_count": 34,
     "metadata": {},
     "output_type": "execute_result"
    }
   ],
   "source": [
    "%%sql\n",
    "INSERT INTO DATE(DATE,MONTH,DAY,YEAR,DAY_OF_WEEK)\n",
    "SELECT distinct INSPECTION_DATE AS date,\n",
    "   INSPECTION_MONTH AS MONTH,\n",
    "   INSPECTION_DAY AS DAY,\n",
    "   INSPECTION_YEAR AS YEAR,\n",
    "   INSPECTION_DAY_OF_WEEK AS DAY_OF_WEEK\n",
    "from nyc_inspect\n",
    "union\n",
    "SELECT distinct GRADE_DATE AS date,\n",
    "   GRADE_MONTH AS MONTH,\n",
    "   GRADE_DAY AS DAY,\n",
    "   GRADE_YEAR AS YEAR,\n",
    "   GRADE_DAY_OF_WEEK AS DAY_OF_WEEK\n",
    "from nyc_inspect;"
   ]
  },
  {
   "cell_type": "code",
   "execution_count": 35,
   "metadata": {},
   "outputs": [
    {
     "name": "stdout",
     "output_type": "stream",
     "text": [
      " * postgresql://student@/group17_final\n",
      "Done.\n"
     ]
    },
    {
     "data": {
      "text/plain": [
       "[]"
      ]
     },
     "execution_count": 35,
     "metadata": {},
     "output_type": "execute_result"
    }
   ],
   "source": [
    "%%sql\n",
    "ALTER TABLE nyc_inspect\n",
    "ADD COLUMN inspection_date_key INTEGER,\n",
    "ADD CONSTRAINT fk_inspection_date\n",
    "    FOREIGN KEY (inspection_date_key)\n",
    "    REFERENCES DATE(key);"
   ]
  },
  {
   "cell_type": "code",
   "execution_count": 36,
   "metadata": {},
   "outputs": [
    {
     "name": "stdout",
     "output_type": "stream",
     "text": [
      " * postgresql://student@/group17_final\n",
      "397024 rows affected.\n"
     ]
    },
    {
     "data": {
      "text/plain": [
       "[]"
      ]
     },
     "execution_count": 36,
     "metadata": {},
     "output_type": "execute_result"
    }
   ],
   "source": [
    "%%sql \n",
    "UPDATE nyc_inspect\n",
    "SET inspection_date_key = DATE.KEY\n",
    "from date\n",
    "WHERE DATE.DATE = NYC_INSPECT.INSPECTION_DATE"
   ]
  },
  {
   "cell_type": "code",
   "execution_count": 37,
   "metadata": {},
   "outputs": [
    {
     "name": "stdout",
     "output_type": "stream",
     "text": [
      " * postgresql://student@/group17_final\n",
      "Done.\n"
     ]
    },
    {
     "data": {
      "text/plain": [
       "[]"
      ]
     },
     "execution_count": 37,
     "metadata": {},
     "output_type": "execute_result"
    }
   ],
   "source": [
    "%%sql\n",
    "ALTER TABLE nyc_inspect\n",
    "ADD COLUMN GRADE_DATE_key INTEGER,\n",
    "ADD CONSTRAINT fk_GRADE_DATE\n",
    "    FOREIGN KEY (GRADE_DATE_key)\n",
    "    REFERENCES DATE(key);"
   ]
  },
  {
   "cell_type": "code",
   "execution_count": 38,
   "metadata": {},
   "outputs": [
    {
     "name": "stdout",
     "output_type": "stream",
     "text": [
      " * postgresql://student@/group17_final\n",
      "397024 rows affected.\n"
     ]
    },
    {
     "data": {
      "text/plain": [
       "[]"
      ]
     },
     "execution_count": 38,
     "metadata": {},
     "output_type": "execute_result"
    }
   ],
   "source": [
    "%%sql \n",
    "UPDATE nyc_inspect\n",
    "SET GRADE_DATE_key = DATE.KEY\n",
    "from date\n",
    "WHERE DATE.DATE = NYC_INSPECT.GRADE_DATE"
   ]
  },
  {
   "cell_type": "markdown",
   "metadata": {},
   "source": [
    "## create cuisine table"
   ]
  },
  {
   "cell_type": "code",
   "execution_count": 40,
   "metadata": {},
   "outputs": [
    {
     "name": "stdout",
     "output_type": "stream",
     "text": [
      " * postgresql://student@/group17_final\n",
      "Done.\n",
      "Done.\n"
     ]
    },
    {
     "data": {
      "text/plain": [
       "[]"
      ]
     },
     "execution_count": 40,
     "metadata": {},
     "output_type": "execute_result"
    }
   ],
   "source": [
    "%%sql\n",
    "DROP TABLE IF EXISTS CUISINE;\n",
    "\n",
    "CREATE TABLE CUISINE(\n",
    "  key SERIAL PRIMARY KEY,\n",
    "  CUISINE_DESCRIPTION VARCHAR(200)\n",
    ");"
   ]
  },
  {
   "cell_type": "code",
   "execution_count": 41,
   "metadata": {},
   "outputs": [
    {
     "name": "stdout",
     "output_type": "stream",
     "text": [
      " * postgresql://student@/group17_final\n",
      "84 rows affected.\n"
     ]
    },
    {
     "data": {
      "text/plain": [
       "[]"
      ]
     },
     "execution_count": 41,
     "metadata": {},
     "output_type": "execute_result"
    }
   ],
   "source": [
    "%%sql\n",
    "INSERT INTO CUISINE(CUISINE_DESCRIPTION)\n",
    "select distinct CUISINE_DESCRIPTION\n",
    "from nyc_inspect;"
   ]
  },
  {
   "cell_type": "code",
   "execution_count": 42,
   "metadata": {},
   "outputs": [
    {
     "name": "stdout",
     "output_type": "stream",
     "text": [
      " * postgresql://student@/group17_final\n",
      "Done.\n"
     ]
    },
    {
     "data": {
      "text/plain": [
       "[]"
      ]
     },
     "execution_count": 42,
     "metadata": {},
     "output_type": "execute_result"
    }
   ],
   "source": [
    "%%sql\n",
    "ALTER TABLE nyc_inspect\n",
    "ADD COLUMN CUISINE_KEY INTEGER,\n",
    "ADD CONSTRAINT fk_CUISINE\n",
    "    FOREIGN KEY (CUISINE_KEY)\n",
    "    REFERENCES CUISINE(key);"
   ]
  },
  {
   "cell_type": "code",
   "execution_count": 43,
   "metadata": {},
   "outputs": [
    {
     "name": "stdout",
     "output_type": "stream",
     "text": [
      " * postgresql://student@/group17_final\n",
      "397024 rows affected.\n"
     ]
    },
    {
     "data": {
      "text/plain": [
       "[]"
      ]
     },
     "execution_count": 43,
     "metadata": {},
     "output_type": "execute_result"
    }
   ],
   "source": [
    "%%sql\n",
    "update nyc_inspect\n",
    "set CUISINE_KEY = CUISINE.KEY\n",
    "from CUISINE\n",
    "where nyc_inspect.CUISINE_DESCRIPTION = CUISINE.CUISINE_DESCRIPTION"
   ]
  },
  {
   "cell_type": "code",
   "execution_count": 44,
   "metadata": {},
   "outputs": [],
   "source": [
    "#create inspection table"
   ]
  },
  {
   "cell_type": "code",
   "execution_count": 45,
   "metadata": {},
   "outputs": [
    {
     "name": "stdout",
     "output_type": "stream",
     "text": [
      " * postgresql://student@/group17_final\n",
      "Done.\n",
      "Done.\n"
     ]
    },
    {
     "data": {
      "text/plain": [
       "[]"
      ]
     },
     "execution_count": 45,
     "metadata": {},
     "output_type": "execute_result"
    }
   ],
   "source": [
    "%%sql\n",
    "DROP TABLE IF EXISTS INSPECTION CASCADE;\n",
    "\n",
    "CREATE TABLE INSPECTION(\n",
    "  key SERIAL PRIMARY KEY,\n",
    "  inspection_type1 varchar(100),\n",
    "  inspection_type2 varchar(100)  \n",
    ");"
   ]
  },
  {
   "cell_type": "code",
   "execution_count": 46,
   "metadata": {},
   "outputs": [
    {
     "name": "stdout",
     "output_type": "stream",
     "text": [
      " * postgresql://student@/group17_final\n",
      "33 rows affected.\n"
     ]
    },
    {
     "data": {
      "text/plain": [
       "[]"
      ]
     },
     "execution_count": 46,
     "metadata": {},
     "output_type": "execute_result"
    }
   ],
   "source": [
    "%%sql\n",
    "INSERT INTO inspection (inspection_type1,inspection_type2)\n",
    "select distinct inspection_type1,inspection_type2\n",
    "from nyc_inspect;"
   ]
  },
  {
   "cell_type": "code",
   "execution_count": 47,
   "metadata": {},
   "outputs": [
    {
     "name": "stdout",
     "output_type": "stream",
     "text": [
      " * postgresql://student@/group17_final\n",
      "Done.\n"
     ]
    },
    {
     "data": {
      "text/plain": [
       "[]"
      ]
     },
     "execution_count": 47,
     "metadata": {},
     "output_type": "execute_result"
    }
   ],
   "source": [
    "%%sql\n",
    "ALTER TABLE nyc_inspect\n",
    "ADD COLUMN inspection_type_key INTEGER,\n",
    "ADD CONSTRAINT fk_INSPECTION\n",
    "    FOREIGN KEY (inspection_type_key)\n",
    "    REFERENCES INSPECTION (key);"
   ]
  },
  {
   "cell_type": "code",
   "execution_count": 48,
   "metadata": {},
   "outputs": [
    {
     "name": "stdout",
     "output_type": "stream",
     "text": [
      " * postgresql://student@/group17_final\n",
      "397024 rows affected.\n"
     ]
    },
    {
     "data": {
      "text/plain": [
       "[]"
      ]
     },
     "execution_count": 48,
     "metadata": {},
     "output_type": "execute_result"
    }
   ],
   "source": [
    "%%sql\n",
    "UPDATE nyc_inspect\n",
    "SET inspection_type_key = inspection.key\n",
    "from inspection\n",
    "where nyc_inspect.inspection_type1 = inspection.inspection_type1 and\n",
    "nyc_inspect.inspection_type2 = inspection.inspection_type2"
   ]
  },
  {
   "cell_type": "markdown",
   "metadata": {},
   "source": [
    "## create violation table"
   ]
  },
  {
   "cell_type": "code",
   "execution_count": 50,
   "metadata": {},
   "outputs": [
    {
     "name": "stdout",
     "output_type": "stream",
     "text": [
      " * postgresql://student@/group17_final\n",
      "Done.\n",
      "Done.\n"
     ]
    },
    {
     "data": {
      "text/plain": [
       "[]"
      ]
     },
     "execution_count": 50,
     "metadata": {},
     "output_type": "execute_result"
    }
   ],
   "source": [
    "%%sql\n",
    "DROP TABLE IF EXISTS VIOLATION;\n",
    "\n",
    "CREATE TABLE VIOLATION(\n",
    " key SERIAL PRIMARY KEY,\n",
    " VIOLATION_CODE VARCHAR(200),\n",
    " VIOLATION_DESCRIPTION VARCHAR(400),\n",
    " CRITICAL_FLAG VARCHAR(100),\n",
    " ACTION VARCHAR(300)\n",
    ");"
   ]
  },
  {
   "cell_type": "code",
   "execution_count": 51,
   "metadata": {},
   "outputs": [
    {
     "name": "stdout",
     "output_type": "stream",
     "text": [
      " * postgresql://student@/group17_final\n",
      "290 rows affected.\n"
     ]
    },
    {
     "data": {
      "text/plain": [
       "[]"
      ]
     },
     "execution_count": 51,
     "metadata": {},
     "output_type": "execute_result"
    }
   ],
   "source": [
    "%%sql\n",
    "INSERT INTO VIOLATION(VIOLATION_CODE,VIOLATION_DESCRIPTION,CRITICAL_FLAG,ACTION)\n",
    "SELECT DISTINCT VIOLATION_CODE,VIOLATION_DESCRIPTION,CRITICAL_FLAG,ACTION\n",
    "from nyc_inspect;"
   ]
  },
  {
   "cell_type": "code",
   "execution_count": 52,
   "metadata": {},
   "outputs": [
    {
     "name": "stdout",
     "output_type": "stream",
     "text": [
      " * postgresql://student@/group17_final\n",
      "Done.\n"
     ]
    },
    {
     "data": {
      "text/plain": [
       "[]"
      ]
     },
     "execution_count": 52,
     "metadata": {},
     "output_type": "execute_result"
    }
   ],
   "source": [
    "%%sql\n",
    "ALTER TABLE nyc_inspect\n",
    "ADD COLUMN violation_key INTEGER,\n",
    "ADD CONSTRAINT fk_violation\n",
    "    FOREIGN KEY (violation_key)\n",
    "    REFERENCES VIOLATION(key);"
   ]
  },
  {
   "cell_type": "code",
   "execution_count": 53,
   "metadata": {},
   "outputs": [
    {
     "name": "stdout",
     "output_type": "stream",
     "text": [
      " * postgresql://student@/group17_final\n",
      "397024 rows affected.\n"
     ]
    },
    {
     "data": {
      "text/plain": [
       "[]"
      ]
     },
     "execution_count": 53,
     "metadata": {},
     "output_type": "execute_result"
    }
   ],
   "source": [
    "%%sql\n",
    "update nyc_inspect\n",
    "set VIOLATION_KEY = VIOLATION.KEY\n",
    "from VIOLATION\n",
    "where nyc_inspect.VIOLATION_DESCRIPTION = VIOLATION.VIOLATION_DESCRIPTION"
   ]
  },
  {
   "cell_type": "markdown",
   "metadata": {},
   "source": [
    "## create location table"
   ]
  },
  {
   "cell_type": "code",
   "execution_count": 55,
   "metadata": {},
   "outputs": [
    {
     "name": "stdout",
     "output_type": "stream",
     "text": [
      " * postgresql://student@/group17_final\n",
      "Done.\n",
      "Done.\n"
     ]
    },
    {
     "data": {
      "text/plain": [
       "[]"
      ]
     },
     "execution_count": 55,
     "metadata": {},
     "output_type": "execute_result"
    }
   ],
   "source": [
    "%%sql\n",
    "DROP TABLE IF EXISTS Location;\n",
    "\n",
    "CREATE TABLE Location(\n",
    " key SERIAL   PRIMARY KEY,\n",
    " DISTRICT     VARCHAR(20),\n",
    " BUILDING     VARCHAR(50),\n",
    " STREET       VARCHAR(100),\n",
    " ZIPCODE      VARCHAR(100),\n",
    " LATITUDE     VARCHAR(100),\n",
    " LONGITUDE    VARCHAR(100),\n",
    " LAT_LONG     VARCHAR(100)\n",
    ");"
   ]
  },
  {
   "cell_type": "code",
   "execution_count": 56,
   "metadata": {},
   "outputs": [
    {
     "name": "stdout",
     "output_type": "stream",
     "text": [
      " * postgresql://student@/group17_final\n",
      "24117 rows affected.\n"
     ]
    },
    {
     "data": {
      "text/plain": [
       "[]"
      ]
     },
     "execution_count": 56,
     "metadata": {},
     "output_type": "execute_result"
    }
   ],
   "source": [
    "%%sql\n",
    "INSERT INTO Location(DISTRICT,BUILDING,STREET,ZIPCODE,LATITUDE,LONGITUDE,LAT_LONG)\n",
    "SELECT DISTINCT DISTRICT,BUILDING,STREET,ZIPCODE,LATITUDE,LONGITUDE,LAT_LONG\n",
    "from nyc_inspect;"
   ]
  },
  {
   "cell_type": "code",
   "execution_count": 57,
   "metadata": {},
   "outputs": [
    {
     "name": "stdout",
     "output_type": "stream",
     "text": [
      " * postgresql://student@/group17_final\n",
      "Done.\n"
     ]
    },
    {
     "data": {
      "text/plain": [
       "[]"
      ]
     },
     "execution_count": 57,
     "metadata": {},
     "output_type": "execute_result"
    }
   ],
   "source": [
    "%%sql\n",
    "ALTER TABLE nyc_inspect\n",
    "ADD COLUMN location_key INTEGER,\n",
    "ADD CONSTRAINT fk_location\n",
    "    FOREIGN KEY (location_key)\n",
    "    REFERENCES location(key);"
   ]
  },
  {
   "cell_type": "code",
   "execution_count": 58,
   "metadata": {},
   "outputs": [
    {
     "name": "stdout",
     "output_type": "stream",
     "text": [
      " * postgresql://student@/group17_final\n",
      "397024 rows affected.\n"
     ]
    },
    {
     "data": {
      "text/plain": [
       "[]"
      ]
     },
     "execution_count": 58,
     "metadata": {},
     "output_type": "execute_result"
    }
   ],
   "source": [
    "%%sql \n",
    "UPDATE nyc_inspect\n",
    "SET location_key = location.KEY\n",
    "from location\n",
    "WHERE location.lat_long = nyc_inspect.lat_long"
   ]
  },
  {
   "cell_type": "markdown",
   "metadata": {},
   "source": [
    "## drop columns in table"
   ]
  },
  {
   "cell_type": "code",
   "execution_count": 61,
   "metadata": {},
   "outputs": [
    {
     "name": "stdout",
     "output_type": "stream",
     "text": [
      " * postgresql://student@/group17_final\n",
      "Done.\n"
     ]
    },
    {
     "data": {
      "text/plain": [
       "[]"
      ]
     },
     "execution_count": 61,
     "metadata": {},
     "output_type": "execute_result"
    }
   ],
   "source": [
    "%%sql\n",
    "ALTER TABLE nyc_inspect\n",
    "DROP COLUMN ID,\n",
    "DROP COLUMN NAME,\n",
    "DROP COLUMN DISTRICT,\n",
    "DROP COLUMN BUILDING,\n",
    "DROP COLUMN STREET,\n",
    "DROP COLUMN ZIPCODE,\n",
    "DROP COLUMN PHONE,\n",
    "DROP COLUMN CUISINE_DESCRIPTION,\n",
    "DROP COLUMN INSPECTION_DATE,\n",
    "DROP COLUMN INSPECTION_MONTH,\n",
    "DROP COLUMN INSPECTION_DAY,\n",
    "DROP COLUMN INSPECTION_YEAR,\n",
    "DROP COLUMN INSPECTION_DAY_OF_WEEK,\n",
    "DROP COLUMN ACTION,\n",
    "DROP COLUMN VIOLATION_CODE,\n",
    "DROP COLUMN VIOLATION_DESCRIPTION,\n",
    "DROP COLUMN CRITICAL_FLAG,\n",
    "DROP COLUMN GRADE_DATE,\n",
    "DROP COLUMN GRADE_MONTH,\n",
    "DROP COLUMN GRADE_DAY,\n",
    "DROP COLUMN GRADE_YEAR,\n",
    "DROP COLUMN GRADE_DAY_OF_WEEK,\n",
    "DROP COLUMN INSPECTION_TYPE1,\n",
    "DROP COLUMN INSPECTION_TYPE2,\n",
    "DROP COLUMN LATITUDE,\n",
    "DROP COLUMN LONGITUDE,\n",
    "DROP COLUMN LAT_LONG;"
   ]
  },
  {
   "cell_type": "code",
   "execution_count": 62,
   "metadata": {},
   "outputs": [
    {
     "name": "stdout",
     "output_type": "stream",
     "text": [
      " * postgresql://student@/group17_final\n",
      "10 rows affected.\n"
     ]
    },
    {
     "data": {
      "text/html": [
       "<table>\n",
       "    <tr>\n",
       "        <th>score</th>\n",
       "        <th>grade</th>\n",
       "        <th>information_key</th>\n",
       "        <th>inspection_date_key</th>\n",
       "        <th>grade_date_key</th>\n",
       "        <th>cuisine_key</th>\n",
       "        <th>inspection_type_key</th>\n",
       "        <th>violation_key</th>\n",
       "        <th>location_key</th>\n",
       "    </tr>\n",
       "    <tr>\n",
       "        <td>5.00</td>\n",
       "        <td>P </td>\n",
       "        <td>11163</td>\n",
       "        <td>916</td>\n",
       "        <td>916</td>\n",
       "        <td>65</td>\n",
       "        <td>15</td>\n",
       "        <td>80</td>\n",
       "        <td>3077</td>\n",
       "    </tr>\n",
       "    <tr>\n",
       "        <td>40.00</td>\n",
       "        <td>&nbsp;&nbsp;</td>\n",
       "        <td>13885</td>\n",
       "        <td>939</td>\n",
       "        <td>1</td>\n",
       "        <td>17</td>\n",
       "        <td>16</td>\n",
       "        <td>162</td>\n",
       "        <td>14131</td>\n",
       "    </tr>\n",
       "    <tr>\n",
       "        <td>20.00</td>\n",
       "        <td>&nbsp;&nbsp;</td>\n",
       "        <td>18101</td>\n",
       "        <td>441</td>\n",
       "        <td>1</td>\n",
       "        <td>49</td>\n",
       "        <td>16</td>\n",
       "        <td>80</td>\n",
       "        <td>641</td>\n",
       "    </tr>\n",
       "    <tr>\n",
       "        <td>None</td>\n",
       "        <td>&nbsp;&nbsp;</td>\n",
       "        <td>21618</td>\n",
       "        <td>1109</td>\n",
       "        <td>1</td>\n",
       "        <td>8</td>\n",
       "        <td>32</td>\n",
       "        <td>290</td>\n",
       "        <td>948</td>\n",
       "    </tr>\n",
       "    <tr>\n",
       "        <td>None</td>\n",
       "        <td>&nbsp;&nbsp;</td>\n",
       "        <td>21909</td>\n",
       "        <td>2</td>\n",
       "        <td>1</td>\n",
       "        <td>31</td>\n",
       "        <td>22</td>\n",
       "        <td>290</td>\n",
       "        <td>12610</td>\n",
       "    </tr>\n",
       "    <tr>\n",
       "        <td>None</td>\n",
       "        <td>&nbsp;&nbsp;</td>\n",
       "        <td>12188</td>\n",
       "        <td>317</td>\n",
       "        <td>1</td>\n",
       "        <td>3</td>\n",
       "        <td>7</td>\n",
       "        <td>290</td>\n",
       "        <td>2978</td>\n",
       "    </tr>\n",
       "    <tr>\n",
       "        <td>33.00</td>\n",
       "        <td>&nbsp;&nbsp;</td>\n",
       "        <td>214</td>\n",
       "        <td>1117</td>\n",
       "        <td>1</td>\n",
       "        <td>68</td>\n",
       "        <td>16</td>\n",
       "        <td>80</td>\n",
       "        <td>12000</td>\n",
       "    </tr>\n",
       "    <tr>\n",
       "        <td>None</td>\n",
       "        <td>&nbsp;&nbsp;</td>\n",
       "        <td>10560</td>\n",
       "        <td>2</td>\n",
       "        <td>1</td>\n",
       "        <td>31</td>\n",
       "        <td>22</td>\n",
       "        <td>290</td>\n",
       "        <td>4419</td>\n",
       "    </tr>\n",
       "    <tr>\n",
       "        <td>20.00</td>\n",
       "        <td>&nbsp;&nbsp;</td>\n",
       "        <td>26424</td>\n",
       "        <td>174</td>\n",
       "        <td>1</td>\n",
       "        <td>71</td>\n",
       "        <td>16</td>\n",
       "        <td>158</td>\n",
       "        <td>7056</td>\n",
       "    </tr>\n",
       "    <tr>\n",
       "        <td>None</td>\n",
       "        <td>&nbsp;&nbsp;</td>\n",
       "        <td>15054</td>\n",
       "        <td>513</td>\n",
       "        <td>1</td>\n",
       "        <td>50</td>\n",
       "        <td>32</td>\n",
       "        <td>266</td>\n",
       "        <td>16736</td>\n",
       "    </tr>\n",
       "</table>"
      ],
      "text/plain": [
       "[(Decimal('5.00'), 'P ', 11163, 916, 916, 65, 15, 80, 3077),\n",
       " (Decimal('40.00'), '  ', 13885, 939, 1, 17, 16, 162, 14131),\n",
       " (Decimal('20.00'), '  ', 18101, 441, 1, 49, 16, 80, 641),\n",
       " (None, '  ', 21618, 1109, 1, 8, 32, 290, 948),\n",
       " (None, '  ', 21909, 2, 1, 31, 22, 290, 12610),\n",
       " (None, '  ', 12188, 317, 1, 3, 7, 290, 2978),\n",
       " (Decimal('33.00'), '  ', 214, 1117, 1, 68, 16, 80, 12000),\n",
       " (None, '  ', 10560, 2, 1, 31, 22, 290, 4419),\n",
       " (Decimal('20.00'), '  ', 26424, 174, 1, 71, 16, 158, 7056),\n",
       " (None, '  ', 15054, 513, 1, 50, 32, 266, 16736)]"
      ]
     },
     "execution_count": 62,
     "metadata": {},
     "output_type": "execute_result"
    }
   ],
   "source": [
    "%%sql\n",
    "select * from nyc_inspect\n",
    "limit 10;"
   ]
  },
  {
   "cell_type": "markdown",
   "metadata": {},
   "source": [
    "## Ask1: Business Question"
   ]
  },
  {
   "cell_type": "markdown",
   "metadata": {},
   "source": [
    "## Question1"
   ]
  },
  {
   "cell_type": "markdown",
   "metadata": {},
   "source": [
    "## Find the worst 5 cuisines in each district based on the average score."
   ]
  },
  {
   "cell_type": "code",
   "execution_count": 75,
   "metadata": {},
   "outputs": [
    {
     "name": "stdout",
     "output_type": "stream",
     "text": [
      " * postgresql://student@/group17_final\n",
      "25 rows affected.\n"
     ]
    },
    {
     "data": {
      "text/html": [
       "<table>\n",
       "    <tr>\n",
       "        <th>avg</th>\n",
       "        <th>district</th>\n",
       "        <th>cuisine_description</th>\n",
       "    </tr>\n",
       "    <tr>\n",
       "        <td>33.6666666666666667</td>\n",
       "        <td>Bronx</td>\n",
       "        <td>Creole</td>\n",
       "    </tr>\n",
       "    <tr>\n",
       "        <td>31.8787878787878788</td>\n",
       "        <td>Bronx</td>\n",
       "        <td>Vietnamese/Cambodian/Malaysia</td>\n",
       "    </tr>\n",
       "    <tr>\n",
       "        <td>31.0133333333333333</td>\n",
       "        <td>Bronx</td>\n",
       "        <td>Bangladeshi</td>\n",
       "    </tr>\n",
       "    <tr>\n",
       "        <td>26.5990922844175492</td>\n",
       "        <td>Bronx</td>\n",
       "        <td>African</td>\n",
       "    </tr>\n",
       "    <tr>\n",
       "        <td>25.7111111111111111</td>\n",
       "        <td>Bronx</td>\n",
       "        <td>Barbecue</td>\n",
       "    </tr>\n",
       "    <tr>\n",
       "        <td>36.0925925925925926</td>\n",
       "        <td>Brooklyn</td>\n",
       "        <td>Chinese/Cuban</td>\n",
       "    </tr>\n",
       "    <tr>\n",
       "        <td>34.8727272727272727</td>\n",
       "        <td>Brooklyn</td>\n",
       "        <td>Hotdogs/Pretzels</td>\n",
       "    </tr>\n",
       "    <tr>\n",
       "        <td>31.0374015748031496</td>\n",
       "        <td>Brooklyn</td>\n",
       "        <td>African</td>\n",
       "    </tr>\n",
       "    <tr>\n",
       "        <td>29.9873417721518987</td>\n",
       "        <td>Brooklyn</td>\n",
       "        <td>Bangladeshi</td>\n",
       "    </tr>\n",
       "    <tr>\n",
       "        <td>27.3684210526315789</td>\n",
       "        <td>Brooklyn</td>\n",
       "        <td>Filipino</td>\n",
       "    </tr>\n",
       "    <tr>\n",
       "        <td>30.8230769230769231</td>\n",
       "        <td>Manhattan</td>\n",
       "        <td>Bangladeshi</td>\n",
       "    </tr>\n",
       "    <tr>\n",
       "        <td>27.5472527472527473</td>\n",
       "        <td>Manhattan</td>\n",
       "        <td>African</td>\n",
       "    </tr>\n",
       "    <tr>\n",
       "        <td>27.0978260869565217</td>\n",
       "        <td>Manhattan</td>\n",
       "        <td>Peruvian</td>\n",
       "    </tr>\n",
       "    <tr>\n",
       "        <td>26.2460937500000000</td>\n",
       "        <td>Manhattan</td>\n",
       "        <td>Caribbean</td>\n",
       "    </tr>\n",
       "    <tr>\n",
       "        <td>25.7718120805369128</td>\n",
       "        <td>Manhattan</td>\n",
       "        <td>Pakistani</td>\n",
       "    </tr>\n",
       "    <tr>\n",
       "        <td>48.4705882352941176</td>\n",
       "        <td>Queens</td>\n",
       "        <td>Moroccan</td>\n",
       "    </tr>\n",
       "    <tr>\n",
       "        <td>34.7014925373134328</td>\n",
       "        <td>Queens</td>\n",
       "        <td>African</td>\n",
       "    </tr>\n",
       "    <tr>\n",
       "        <td>31.0449050086355786</td>\n",
       "        <td>Queens</td>\n",
       "        <td>Bangladeshi</td>\n",
       "    </tr>\n",
       "    <tr>\n",
       "        <td>30.7027027027027027</td>\n",
       "        <td>Queens</td>\n",
       "        <td>Soups &amp; Sandwiches</td>\n",
       "    </tr>\n",
       "    <tr>\n",
       "        <td>30.5079365079365079</td>\n",
       "        <td>Queens</td>\n",
       "        <td>Filipino</td>\n",
       "    </tr>\n",
       "    <tr>\n",
       "        <td>32.7627118644067797</td>\n",
       "        <td>Staten Island</td>\n",
       "        <td>German</td>\n",
       "    </tr>\n",
       "    <tr>\n",
       "        <td>30.1600000000000000</td>\n",
       "        <td>Staten Island</td>\n",
       "        <td>Caribbean</td>\n",
       "    </tr>\n",
       "    <tr>\n",
       "        <td>29.9531250000000000</td>\n",
       "        <td>Staten Island</td>\n",
       "        <td>Soul Food</td>\n",
       "    </tr>\n",
       "    <tr>\n",
       "        <td>25.3571428571428571</td>\n",
       "        <td>Staten Island</td>\n",
       "        <td>Peruvian</td>\n",
       "    </tr>\n",
       "    <tr>\n",
       "        <td>23.6296296296296296</td>\n",
       "        <td>Staten Island</td>\n",
       "        <td>Fruits/Vegetables</td>\n",
       "    </tr>\n",
       "</table>"
      ],
      "text/plain": [
       "[(Decimal('33.6666666666666667'), 'Bronx', 'Creole'),\n",
       " (Decimal('31.8787878787878788'), 'Bronx', 'Vietnamese/Cambodian/Malaysia'),\n",
       " (Decimal('31.0133333333333333'), 'Bronx', 'Bangladeshi'),\n",
       " (Decimal('26.5990922844175492'), 'Bronx', 'African'),\n",
       " (Decimal('25.7111111111111111'), 'Bronx', 'Barbecue'),\n",
       " (Decimal('36.0925925925925926'), 'Brooklyn', 'Chinese/Cuban'),\n",
       " (Decimal('34.8727272727272727'), 'Brooklyn', 'Hotdogs/Pretzels'),\n",
       " (Decimal('31.0374015748031496'), 'Brooklyn', 'African'),\n",
       " (Decimal('29.9873417721518987'), 'Brooklyn', 'Bangladeshi'),\n",
       " (Decimal('27.3684210526315789'), 'Brooklyn', 'Filipino'),\n",
       " (Decimal('30.8230769230769231'), 'Manhattan', 'Bangladeshi'),\n",
       " (Decimal('27.5472527472527473'), 'Manhattan', 'African'),\n",
       " (Decimal('27.0978260869565217'), 'Manhattan', 'Peruvian'),\n",
       " (Decimal('26.2460937500000000'), 'Manhattan', 'Caribbean'),\n",
       " (Decimal('25.7718120805369128'), 'Manhattan', 'Pakistani'),\n",
       " (Decimal('48.4705882352941176'), 'Queens', 'Moroccan'),\n",
       " (Decimal('34.7014925373134328'), 'Queens', 'African'),\n",
       " (Decimal('31.0449050086355786'), 'Queens', 'Bangladeshi'),\n",
       " (Decimal('30.7027027027027027'), 'Queens', 'Soups & Sandwiches'),\n",
       " (Decimal('30.5079365079365079'), 'Queens', 'Filipino'),\n",
       " (Decimal('32.7627118644067797'), 'Staten Island', 'German'),\n",
       " (Decimal('30.1600000000000000'), 'Staten Island', 'Caribbean'),\n",
       " (Decimal('29.9531250000000000'), 'Staten Island', 'Soul Food'),\n",
       " (Decimal('25.3571428571428571'), 'Staten Island', 'Peruvian'),\n",
       " (Decimal('23.6296296296296296'), 'Staten Island', 'Fruits/Vegetables')]"
      ]
     },
     "execution_count": 75,
     "metadata": {},
     "output_type": "execute_result"
    }
   ],
   "source": [
    "%%sql\n",
    "(select AVG(score),District,CUISINE_DESCRIPTION\n",
    "from nyc_inspect\n",
    "join location\n",
    "on nyc_inspect.location_key = location.key\n",
    "join cuisine\n",
    "on nyc_inspect.cuisine_key = cuisine.key\n",
    "where district = 'Bronx'\n",
    "group by District,CUISINE_DESCRIPTION\n",
    "order by avg desc\n",
    "limit 5)\n",
    "union\n",
    "(select AVG(score),District,CUISINE_DESCRIPTION\n",
    "from nyc_inspect\n",
    "join location\n",
    "on nyc_inspect.location_key = location.key\n",
    "join cuisine\n",
    "on nyc_inspect.cuisine_key = cuisine.key\n",
    "where district = 'Manhattan'\n",
    "group by District,CUISINE_DESCRIPTION\n",
    "order by avg desc\n",
    "limit 5)\n",
    "union\n",
    "(select AVG(score),District,CUISINE_DESCRIPTION\n",
    "from nyc_inspect\n",
    "join location\n",
    "on nyc_inspect.location_key = location.key\n",
    "join cuisine\n",
    "on nyc_inspect.cuisine_key = cuisine.key\n",
    "where district = 'Queens'\n",
    "group by District,CUISINE_DESCRIPTION\n",
    "order by avg desc\n",
    "limit 5)\n",
    "union\n",
    "(select AVG(score),District,CUISINE_DESCRIPTION\n",
    "from nyc_inspect\n",
    "join location\n",
    "on nyc_inspect.location_key = location.key\n",
    "join cuisine\n",
    "on nyc_inspect.cuisine_key = cuisine.key\n",
    "where district = 'Brooklyn'\n",
    "group by District,CUISINE_DESCRIPTION\n",
    "order by avg desc\n",
    "limit 5)\n",
    "union\n",
    "(select AVG(score),District,CUISINE_DESCRIPTION\n",
    "from nyc_inspect\n",
    "join location\n",
    "on nyc_inspect.location_key = location.key\n",
    "join cuisine\n",
    "on nyc_inspect.cuisine_key = cuisine.key\n",
    "where district = 'Staten Island'\n",
    "group by District,CUISINE_DESCRIPTION\n",
    "order by avg desc\n",
    "limit 5)\n",
    "order by district,avg desc;"
   ]
  },
  {
   "cell_type": "code",
   "execution_count": 14,
   "metadata": {},
   "outputs": [],
   "source": [
    "import matplotlib.pyplot as plt\n",
    "%matplotlib inline"
   ]
  },
  {
   "cell_type": "code",
   "execution_count": 78,
   "metadata": {},
   "outputs": [
    {
     "data": {
      "text/plain": [
       "<BarContainer object of 25 artists>"
      ]
     },
     "execution_count": 78,
     "metadata": {},
     "output_type": "execute_result"
    },
    {
     "data": {
      "image/png": "[encoded data removed]",
      "text/plain": [
       "<Figure size 2880x1440 with 1 Axes>"
      ]
     },
     "metadata": {
      "needs_background": "light"
     },
     "output_type": "display_data"
    }
   ],
   "source": [
    "plt.figure (figsize=(40,20))\n",
    "plt.rcParams.update({'font.size': 22})\n",
    "plt.xticks(rotation=45, ha='right')\n",
    "_.bar(color=['tomato','tomato','tomato','tomato','tomato',\n",
    "              'gold','gold','gold','gold','gold',\n",
    "              'lightblue','lightblue','lightblue','lightblue','lightblue',\n",
    "            'lightgreen','lightgreen','lightgreen','lightgreen','lightgreen',\n",
    "             'pink','pink','pink','pink','pink'])"
   ]
  },
  {
   "cell_type": "markdown",
   "metadata": {},
   "source": [
    "## Question2"
   ]
  },
  {
   "cell_type": "markdown",
   "metadata": {},
   "source": [
    "## Find top 5 cuisine in nyc and their top 5 violations."
   ]
  },
  {
   "cell_type": "code",
   "execution_count": 58,
   "metadata": {},
   "outputs": [
    {
     "name": "stdout",
     "output_type": "stream",
     "text": [
      " * postgresql://student@/group17_final\n",
      "5 rows affected.\n"
     ]
    },
    {
     "data": {
      "text/html": [
       "<table>\n",
       "    <tr>\n",
       "        <th>count</th>\n",
       "        <th>cuisine_description</th>\n",
       "    </tr>\n",
       "    <tr>\n",
       "        <td>5743</td>\n",
       "        <td>American</td>\n",
       "    </tr>\n",
       "    <tr>\n",
       "        <td>2386</td>\n",
       "        <td>Chinese</td>\n",
       "    </tr>\n",
       "    <tr>\n",
       "        <td>1853</td>\n",
       "        <td>Other</td>\n",
       "    </tr>\n",
       "    <tr>\n",
       "        <td>1806</td>\n",
       "        <td>Café/Coffee/Tea</td>\n",
       "    </tr>\n",
       "    <tr>\n",
       "        <td>1201</td>\n",
       "        <td>Pizza</td>\n",
       "    </tr>\n",
       "</table>"
      ],
      "text/plain": [
       "[(5743, 'American'),\n",
       " (2386, 'Chinese'),\n",
       " (1853, 'Other'),\n",
       " (1806, 'Café/Coffee/Tea'),\n",
       " (1201, 'Pizza')]"
      ]
     },
     "execution_count": 58,
     "metadata": {},
     "output_type": "execute_result"
    }
   ],
   "source": [
    "%%sql\n",
    "select count(distinct information_key),cuisine_description\n",
    "from nyc_inspect\n",
    "join cuisine\n",
    "on cuisine.key = nyc_inspect.cuisine_key\n",
    "group by cuisine_description\n",
    "order by count desc\n",
    "limit 5;"
   ]
  },
  {
   "cell_type": "markdown",
   "metadata": {},
   "source": [
    "### we can see the top 5 cuisines are as above."
   ]
  },
  {
   "cell_type": "code",
   "execution_count": 60,
   "metadata": {},
   "outputs": [
    {
     "name": "stdout",
     "output_type": "stream",
     "text": [
      " * postgresql://student@/group17_final\n",
      "25 rows affected.\n"
     ]
    },
    {
     "data": {
      "text/html": [
       "<table>\n",
       "    <tr>\n",
       "        <th>count</th>\n",
       "        <th>violation_code</th>\n",
       "        <th>cuisine_description</th>\n",
       "    </tr>\n",
       "    <tr>\n",
       "        <td>12089</td>\n",
       "        <td>10F</td>\n",
       "        <td>American</td>\n",
       "    </tr>\n",
       "    <tr>\n",
       "        <td>9092</td>\n",
       "        <td>08A</td>\n",
       "        <td>American</td>\n",
       "    </tr>\n",
       "    <tr>\n",
       "        <td>7472</td>\n",
       "        <td>06D</td>\n",
       "        <td>American</td>\n",
       "    </tr>\n",
       "    <tr>\n",
       "        <td>5526</td>\n",
       "        <td>10B</td>\n",
       "        <td>American</td>\n",
       "    </tr>\n",
       "    <tr>\n",
       "        <td>5387</td>\n",
       "        <td>04L</td>\n",
       "        <td>American</td>\n",
       "    </tr>\n",
       "    <tr>\n",
       "        <td>3430</td>\n",
       "        <td>10F</td>\n",
       "        <td>Café/Coffee/Tea</td>\n",
       "    </tr>\n",
       "    <tr>\n",
       "        <td>1919</td>\n",
       "        <td>08A</td>\n",
       "        <td>Café/Coffee/Tea</td>\n",
       "    </tr>\n",
       "    <tr>\n",
       "        <td>1781</td>\n",
       "        <td>06D</td>\n",
       "        <td>Café/Coffee/Tea</td>\n",
       "    </tr>\n",
       "    <tr>\n",
       "        <td>1229</td>\n",
       "        <td>10B</td>\n",
       "        <td>Café/Coffee/Tea</td>\n",
       "    </tr>\n",
       "    <tr>\n",
       "        <td>1207</td>\n",
       "        <td>06C</td>\n",
       "        <td>Café/Coffee/Tea</td>\n",
       "    </tr>\n",
       "    <tr>\n",
       "        <td>6033</td>\n",
       "        <td>10F</td>\n",
       "        <td>Chinese</td>\n",
       "    </tr>\n",
       "    <tr>\n",
       "        <td>4759</td>\n",
       "        <td>08A</td>\n",
       "        <td>Chinese</td>\n",
       "    </tr>\n",
       "    <tr>\n",
       "        <td>3557</td>\n",
       "        <td>04L</td>\n",
       "        <td>Chinese</td>\n",
       "    </tr>\n",
       "    <tr>\n",
       "        <td>3262</td>\n",
       "        <td>06C</td>\n",
       "        <td>Chinese</td>\n",
       "    </tr>\n",
       "    <tr>\n",
       "        <td>2909</td>\n",
       "        <td>02G</td>\n",
       "        <td>Chinese</td>\n",
       "    </tr>\n",
       "    <tr>\n",
       "        <td>1698</td>\n",
       "        <td>22G</td>\n",
       "        <td>Other</td>\n",
       "    </tr>\n",
       "    <tr>\n",
       "        <td>200</td>\n",
       "        <td>10F</td>\n",
       "        <td>Other</td>\n",
       "    </tr>\n",
       "    <tr>\n",
       "        <td>143</td>\n",
       "        <td>08A</td>\n",
       "        <td>Other</td>\n",
       "    </tr>\n",
       "    <tr>\n",
       "        <td>90</td>\n",
       "        <td>06D</td>\n",
       "        <td>Other</td>\n",
       "    </tr>\n",
       "    <tr>\n",
       "        <td>75</td>\n",
       "        <td>04L</td>\n",
       "        <td>Other</td>\n",
       "    </tr>\n",
       "    <tr>\n",
       "        <td>2583</td>\n",
       "        <td>10F</td>\n",
       "        <td>Pizza</td>\n",
       "    </tr>\n",
       "    <tr>\n",
       "        <td>2078</td>\n",
       "        <td>08A</td>\n",
       "        <td>Pizza</td>\n",
       "    </tr>\n",
       "    <tr>\n",
       "        <td>1584</td>\n",
       "        <td>04L</td>\n",
       "        <td>Pizza</td>\n",
       "    </tr>\n",
       "    <tr>\n",
       "        <td>1461</td>\n",
       "        <td>02B</td>\n",
       "        <td>Pizza</td>\n",
       "    </tr>\n",
       "    <tr>\n",
       "        <td>1016</td>\n",
       "        <td>02G</td>\n",
       "        <td>Pizza</td>\n",
       "    </tr>\n",
       "</table>"
      ],
      "text/plain": [
       "[(12089, '10F', 'American'),\n",
       " (9092, '08A', 'American'),\n",
       " (7472, '06D', 'American'),\n",
       " (5526, '10B', 'American'),\n",
       " (5387, '04L', 'American'),\n",
       " (3430, '10F', 'Café/Coffee/Tea'),\n",
       " (1919, '08A', 'Café/Coffee/Tea'),\n",
       " (1781, '06D', 'Café/Coffee/Tea'),\n",
       " (1229, '10B', 'Café/Coffee/Tea'),\n",
       " (1207, '06C', 'Café/Coffee/Tea'),\n",
       " (6033, '10F', 'Chinese'),\n",
       " (4759, '08A', 'Chinese'),\n",
       " (3557, '04L', 'Chinese'),\n",
       " (3262, '06C', 'Chinese'),\n",
       " (2909, '02G', 'Chinese'),\n",
       " (1698, '22G', 'Other'),\n",
       " (200, '10F', 'Other'),\n",
       " (143, '08A', 'Other'),\n",
       " (90, '06D', 'Other'),\n",
       " (75, '04L', 'Other'),\n",
       " (2583, '10F', 'Pizza'),\n",
       " (2078, '08A', 'Pizza'),\n",
       " (1584, '04L', 'Pizza'),\n",
       " (1461, '02B', 'Pizza'),\n",
       " (1016, '02G', 'Pizza')]"
      ]
     },
     "execution_count": 60,
     "metadata": {},
     "output_type": "execute_result"
    }
   ],
   "source": [
    "%%sql\n",
    "(select count(information_key) as count, VIOLATION_CODE,cuisine_description\n",
    "from nyc_inspect\n",
    "join VIOLATION \n",
    "on nyc_inspect.violation_key = violation.key\n",
    "join CUISINE\n",
    "on nyc_inspect.CUISINE_KEY = CUISINE.key\n",
    "group by VIOLATION_CODE,CUISINE_DESCRIPTION\n",
    "having cuisine_description = 'American'\n",
    "order by count desc\n",
    "limit 5)\n",
    "union\n",
    "(select count(information_key) as count, VIOLATION_CODE,cuisine_description\n",
    "from nyc_inspect\n",
    "join VIOLATION \n",
    "on nyc_inspect.violation_key = violation.key\n",
    "join CUISINE\n",
    "on nyc_inspect.CUISINE_KEY = CUISINE.key\n",
    "group by VIOLATION_CODE,CUISINE_DESCRIPTION\n",
    "having cuisine_description = 'Chinese'\n",
    "order by count desc\n",
    "limit 5)\n",
    "union\n",
    "(select count(information_key) as count, VIOLATION_CODE,cuisine_description\n",
    "from nyc_inspect\n",
    "join VIOLATION \n",
    "on nyc_inspect.violation_key = violation.key\n",
    "join CUISINE\n",
    "on nyc_inspect.CUISINE_KEY = CUISINE.key\n",
    "group by VIOLATION_CODE,CUISINE_DESCRIPTION\n",
    "having cuisine_description = 'Other'\n",
    "order by count desc\n",
    "limit 5)\n",
    "union\n",
    "(select count(information_key) as count, VIOLATION_CODE,cuisine_description\n",
    "from nyc_inspect\n",
    "join VIOLATION \n",
    "on nyc_inspect.violation_key = violation.key\n",
    "join CUISINE\n",
    "on nyc_inspect.CUISINE_KEY = CUISINE.key\n",
    "group by VIOLATION_CODE,CUISINE_DESCRIPTION\n",
    "having cuisine_description = 'Café/Coffee/Tea'\n",
    "order by count desc\n",
    "limit 5)\n",
    "union\n",
    "(select count(information_key) as count, VIOLATION_CODE,cuisine_description\n",
    "from nyc_inspect\n",
    "join VIOLATION \n",
    "on nyc_inspect.violation_key = violation.key\n",
    "join CUISINE\n",
    "on nyc_inspect.CUISINE_KEY = CUISINE.key\n",
    "group by VIOLATION_CODE,CUISINE_DESCRIPTION\n",
    "having cuisine_description = 'Pizza'\n",
    "order by count desc\n",
    "limit 5)\n",
    "order by cuisine_description,count desc;"
   ]
  },
  {
   "cell_type": "markdown",
   "metadata": {},
   "source": [
    "### We can notice that there are some common violations in these top 5 cuisines."
   ]
  },
  {
   "cell_type": "code",
   "execution_count": 78,
   "metadata": {},
   "outputs": [
    {
     "data": {
      "text/html": [
       "<img src=\"https://raw.githubusercontent.com/Tangerinekk/DNSC6212/master/Screen%20Shot%202019-11-30%20at%2010.21.55%20PM.png\"/>"
      ],
      "text/plain": [
       "<IPython.core.display.Image object>"
      ]
     },
     "execution_count": 78,
     "metadata": {},
     "output_type": "execute_result"
    }
   ],
   "source": [
    "Image(url=\"https://raw.githubusercontent.com/Tangerinekk/DNSC6212/master/Screen%20Shot%202019-11-30%20at%2010.21.55%20PM.png\")"
   ]
  },
  {
   "cell_type": "markdown",
   "metadata": {},
   "source": [
    "## Question 3 "
   ]
  },
  {
   "cell_type": "markdown",
   "metadata": {},
   "source": [
    "## Find each district's top 5 violations."
   ]
  },
  {
   "cell_type": "code",
   "execution_count": 80,
   "metadata": {},
   "outputs": [
    {
     "name": "stdout",
     "output_type": "stream",
     "text": [
      " * postgresql://student@/group17_final\n",
      "25 rows affected.\n"
     ]
    },
    {
     "data": {
      "text/html": [
       "<table>\n",
       "    <tr>\n",
       "        <th>count</th>\n",
       "        <th>violation_code</th>\n",
       "        <th>district</th>\n",
       "    </tr>\n",
       "    <tr>\n",
       "        <td>5761</td>\n",
       "        <td>10F</td>\n",
       "        <td>Bronx</td>\n",
       "    </tr>\n",
       "    <tr>\n",
       "        <td>5184</td>\n",
       "        <td>08A</td>\n",
       "        <td>Bronx</td>\n",
       "    </tr>\n",
       "    <tr>\n",
       "        <td>3335</td>\n",
       "        <td>04L</td>\n",
       "        <td>Bronx</td>\n",
       "    </tr>\n",
       "    <tr>\n",
       "        <td>2508</td>\n",
       "        <td>04N</td>\n",
       "        <td>Bronx</td>\n",
       "    </tr>\n",
       "    <tr>\n",
       "        <td>2474</td>\n",
       "        <td>10B</td>\n",
       "        <td>Bronx</td>\n",
       "    </tr>\n",
       "    <tr>\n",
       "        <td>14207</td>\n",
       "        <td>10F</td>\n",
       "        <td>Brooklyn</td>\n",
       "    </tr>\n",
       "    <tr>\n",
       "        <td>11326</td>\n",
       "        <td>08A</td>\n",
       "        <td>Brooklyn</td>\n",
       "    </tr>\n",
       "    <tr>\n",
       "        <td>7843</td>\n",
       "        <td>04L</td>\n",
       "        <td>Brooklyn</td>\n",
       "    </tr>\n",
       "    <tr>\n",
       "        <td>6329</td>\n",
       "        <td>06D</td>\n",
       "        <td>Brooklyn</td>\n",
       "    </tr>\n",
       "    <tr>\n",
       "        <td>6069</td>\n",
       "        <td>06C</td>\n",
       "        <td>Brooklyn</td>\n",
       "    </tr>\n",
       "    <tr>\n",
       "        <td>21470</td>\n",
       "        <td>10F</td>\n",
       "        <td>Manhattan</td>\n",
       "    </tr>\n",
       "    <tr>\n",
       "        <td>16779</td>\n",
       "        <td>08A</td>\n",
       "        <td>Manhattan</td>\n",
       "    </tr>\n",
       "    <tr>\n",
       "        <td>11586</td>\n",
       "        <td>06D</td>\n",
       "        <td>Manhattan</td>\n",
       "    </tr>\n",
       "    <tr>\n",
       "        <td>10505</td>\n",
       "        <td>04L</td>\n",
       "        <td>Manhattan</td>\n",
       "    </tr>\n",
       "    <tr>\n",
       "        <td>9745</td>\n",
       "        <td>10B</td>\n",
       "        <td>Manhattan</td>\n",
       "    </tr>\n",
       "    <tr>\n",
       "        <td>12630</td>\n",
       "        <td>10F</td>\n",
       "        <td>Queens</td>\n",
       "    </tr>\n",
       "    <tr>\n",
       "        <td>9575</td>\n",
       "        <td>08A</td>\n",
       "        <td>Queens</td>\n",
       "    </tr>\n",
       "    <tr>\n",
       "        <td>6706</td>\n",
       "        <td>04L</td>\n",
       "        <td>Queens</td>\n",
       "    </tr>\n",
       "    <tr>\n",
       "        <td>5814</td>\n",
       "        <td>06D</td>\n",
       "        <td>Queens</td>\n",
       "    </tr>\n",
       "    <tr>\n",
       "        <td>5749</td>\n",
       "        <td>06C</td>\n",
       "        <td>Queens</td>\n",
       "    </tr>\n",
       "    <tr>\n",
       "        <td>1832</td>\n",
       "        <td>10F</td>\n",
       "        <td>Staten Island</td>\n",
       "    </tr>\n",
       "    <tr>\n",
       "        <td>1246</td>\n",
       "        <td>08A</td>\n",
       "        <td>Staten Island</td>\n",
       "    </tr>\n",
       "    <tr>\n",
       "        <td>1119</td>\n",
       "        <td>06D</td>\n",
       "        <td>Staten Island</td>\n",
       "    </tr>\n",
       "    <tr>\n",
       "        <td>822</td>\n",
       "        <td>02G</td>\n",
       "        <td>Staten Island</td>\n",
       "    </tr>\n",
       "    <tr>\n",
       "        <td>815</td>\n",
       "        <td>10B</td>\n",
       "        <td>Staten Island</td>\n",
       "    </tr>\n",
       "</table>"
      ],
      "text/plain": [
       "[(5761, '10F', 'Bronx'),\n",
       " (5184, '08A', 'Bronx'),\n",
       " (3335, '04L', 'Bronx'),\n",
       " (2508, '04N', 'Bronx'),\n",
       " (2474, '10B', 'Bronx'),\n",
       " (14207, '10F', 'Brooklyn'),\n",
       " (11326, '08A', 'Brooklyn'),\n",
       " (7843, '04L', 'Brooklyn'),\n",
       " (6329, '06D', 'Brooklyn'),\n",
       " (6069, '06C', 'Brooklyn'),\n",
       " (21470, '10F', 'Manhattan'),\n",
       " (16779, '08A', 'Manhattan'),\n",
       " (11586, '06D', 'Manhattan'),\n",
       " (10505, '04L', 'Manhattan'),\n",
       " (9745, '10B', 'Manhattan'),\n",
       " (12630, '10F', 'Queens'),\n",
       " (9575, '08A', 'Queens'),\n",
       " (6706, '04L', 'Queens'),\n",
       " (5814, '06D', 'Queens'),\n",
       " (5749, '06C', 'Queens'),\n",
       " (1832, '10F', 'Staten Island'),\n",
       " (1246, '08A', 'Staten Island'),\n",
       " (1119, '06D', 'Staten Island'),\n",
       " (822, '02G', 'Staten Island'),\n",
       " (815, '10B', 'Staten Island')]"
      ]
     },
     "execution_count": 80,
     "metadata": {},
     "output_type": "execute_result"
    }
   ],
   "source": [
    "%%sql\n",
    "(select count(information_key) as count, VIOLATION_CODE,district\n",
    "from nyc_inspect\n",
    "join VIOLATION \n",
    "on nyc_inspect.violation_key = violation.key\n",
    "join location\n",
    "on nyc_inspect.location_KEY = location.key\n",
    "where district = 'Manhattan'\n",
    "group by VIOLATION_CODE,district\n",
    "order by count desc\n",
    "limit 5)\n",
    "union\n",
    "(select count(information_key) as count, VIOLATION_CODE,district\n",
    "from nyc_inspect\n",
    "join VIOLATION \n",
    "on nyc_inspect.violation_key = violation.key\n",
    "join location\n",
    "on nyc_inspect.location_KEY = location.key\n",
    "where district = 'Bronx'\n",
    "group by VIOLATION_CODE,district\n",
    "order by count desc\n",
    "limit 5)\n",
    "union\n",
    "(select count(information_key) as count, VIOLATION_CODE,district\n",
    "from nyc_inspect\n",
    "join VIOLATION \n",
    "on nyc_inspect.violation_key = violation.key\n",
    "join location\n",
    "on nyc_inspect.location_KEY = location.key\n",
    "where district = 'Brooklyn'\n",
    "group by VIOLATION_CODE,district\n",
    "order by count desc\n",
    "limit 5)\n",
    "union\n",
    "(select count(information_key) as count, VIOLATION_CODE,district\n",
    "from nyc_inspect\n",
    "join VIOLATION \n",
    "on nyc_inspect.violation_key = violation.key\n",
    "join location\n",
    "on nyc_inspect.location_KEY = location.key\n",
    "where district = 'Queens'\n",
    "group by VIOLATION_CODE,district\n",
    "order by count desc\n",
    "limit 5)\n",
    "union\n",
    "(select count(information_key) as count, VIOLATION_CODE,district\n",
    "from nyc_inspect\n",
    "join VIOLATION \n",
    "on nyc_inspect.violation_key = violation.key\n",
    "join location\n",
    "on nyc_inspect.location_KEY = location.key\n",
    "where district = 'Staten Island'\n",
    "group by VIOLATION_CODE,district\n",
    "order by count desc\n",
    "limit 5)\n",
    "order by district,count desc;"
   ]
  },
  {
   "cell_type": "markdown",
   "metadata": {},
   "source": [
    "### We can also notice that there are some common violations in these districts."
   ]
  },
  {
   "cell_type": "code",
   "execution_count": 82,
   "metadata": {},
   "outputs": [
    {
     "data": {
      "text/html": [
       "<img src=\"https://github.com/Tangerinekk/DNSC6212/blob/master/Screen%20Shot%202019-11-30%20at%209.40.10%20PM.png?raw=TRUE\"/>"
      ],
      "text/plain": [
       "<IPython.core.display.Image object>"
      ]
     },
     "execution_count": 82,
     "metadata": {},
     "output_type": "execute_result"
    }
   ],
   "source": [
    "Image(url=\"https://github.com/Tangerinekk/DNSC6212/blob/master/Screen%20Shot%202019-11-30%20at%209.40.10%20PM.png?raw=TRUE\")"
   ]
  },
  {
   "cell_type": "markdown",
   "metadata": {},
   "source": [
    "## Question 4"
   ]
  },
  {
   "cell_type": "markdown",
   "metadata": {},
   "source": [
    "## Find each district's grade distribution"
   ]
  },
  {
   "cell_type": "code",
   "execution_count": 75,
   "metadata": {},
   "outputs": [
    {
     "name": "stdout",
     "output_type": "stream",
     "text": [
      " * postgresql://student@/group17_final\n",
      "44 rows affected.\n"
     ]
    },
    {
     "data": {
      "text/html": [
       "<table>\n",
       "    <tr>\n",
       "        <th>count</th>\n",
       "        <th>grade</th>\n",
       "        <th>district</th>\n",
       "    </tr>\n",
       "    <tr>\n",
       "        <td>186</td>\n",
       "        <td>&nbsp;&nbsp;</td>\n",
       "        <td>0</td>\n",
       "    </tr>\n",
       "    <tr>\n",
       "        <td>193</td>\n",
       "        <td>A </td>\n",
       "        <td>0</td>\n",
       "    </tr>\n",
       "    <tr>\n",
       "        <td>25</td>\n",
       "        <td>B </td>\n",
       "        <td>0</td>\n",
       "    </tr>\n",
       "    <tr>\n",
       "        <td>15</td>\n",
       "        <td>C </td>\n",
       "        <td>0</td>\n",
       "    </tr>\n",
       "    <tr>\n",
       "        <td>1</td>\n",
       "        <td>N </td>\n",
       "        <td>0</td>\n",
       "    </tr>\n",
       "    <tr>\n",
       "        <td>9</td>\n",
       "        <td>P </td>\n",
       "        <td>0</td>\n",
       "    </tr>\n",
       "    <tr>\n",
       "        <td>3</td>\n",
       "        <td>Z </td>\n",
       "        <td>0</td>\n",
       "    </tr>\n",
       "    <tr>\n",
       "        <td>19559</td>\n",
       "        <td>&nbsp;&nbsp;</td>\n",
       "        <td>Bronx</td>\n",
       "    </tr>\n",
       "    <tr>\n",
       "        <td>16165</td>\n",
       "        <td>A </td>\n",
       "        <td>Bronx</td>\n",
       "    </tr>\n",
       "    <tr>\n",
       "        <td>2962</td>\n",
       "        <td>B </td>\n",
       "        <td>Bronx</td>\n",
       "    </tr>\n",
       "    <tr>\n",
       "        <td>1084</td>\n",
       "        <td>C </td>\n",
       "        <td>Bronx</td>\n",
       "    </tr>\n",
       "    <tr>\n",
       "        <td>107</td>\n",
       "        <td>N </td>\n",
       "        <td>Bronx</td>\n",
       "    </tr>\n",
       "    <tr>\n",
       "        <td>270</td>\n",
       "        <td>P </td>\n",
       "        <td>Bronx</td>\n",
       "    </tr>\n",
       "    <tr>\n",
       "        <td>610</td>\n",
       "        <td>Z </td>\n",
       "        <td>Bronx</td>\n",
       "    </tr>\n",
       "    <tr>\n",
       "        <td>50174</td>\n",
       "        <td>&nbsp;&nbsp;</td>\n",
       "        <td>Brooklyn</td>\n",
       "    </tr>\n",
       "    <tr>\n",
       "        <td>39062</td>\n",
       "        <td>A </td>\n",
       "        <td>Brooklyn</td>\n",
       "    </tr>\n",
       "    <tr>\n",
       "        <td>6546</td>\n",
       "        <td>B </td>\n",
       "        <td>Brooklyn</td>\n",
       "    </tr>\n",
       "    <tr>\n",
       "        <td>2265</td>\n",
       "        <td>C </td>\n",
       "        <td>Brooklyn</td>\n",
       "    </tr>\n",
       "    <tr>\n",
       "        <td>2</td>\n",
       "        <td>G </td>\n",
       "        <td>Brooklyn</td>\n",
       "    </tr>\n",
       "    <tr>\n",
       "        <td>411</td>\n",
       "        <td>N </td>\n",
       "        <td>Brooklyn</td>\n",
       "    </tr>\n",
       "    <tr>\n",
       "        <td>796</td>\n",
       "        <td>P </td>\n",
       "        <td>Brooklyn</td>\n",
       "    </tr>\n",
       "    <tr>\n",
       "        <td>1031</td>\n",
       "        <td>Z </td>\n",
       "        <td>Brooklyn</td>\n",
       "    </tr>\n",
       "    <tr>\n",
       "        <td>76269</td>\n",
       "        <td>&nbsp;&nbsp;</td>\n",
       "        <td>Manhattan</td>\n",
       "    </tr>\n",
       "    <tr>\n",
       "        <td>61018</td>\n",
       "        <td>A </td>\n",
       "        <td>Manhattan</td>\n",
       "    </tr>\n",
       "    <tr>\n",
       "        <td>9113</td>\n",
       "        <td>B </td>\n",
       "        <td>Manhattan</td>\n",
       "    </tr>\n",
       "    <tr>\n",
       "        <td>3695</td>\n",
       "        <td>C </td>\n",
       "        <td>Manhattan</td>\n",
       "    </tr>\n",
       "    <tr>\n",
       "        <td>3</td>\n",
       "        <td>G </td>\n",
       "        <td>Manhattan</td>\n",
       "    </tr>\n",
       "    <tr>\n",
       "        <td>557</td>\n",
       "        <td>N </td>\n",
       "        <td>Manhattan</td>\n",
       "    </tr>\n",
       "    <tr>\n",
       "        <td>936</td>\n",
       "        <td>P </td>\n",
       "        <td>Manhattan</td>\n",
       "    </tr>\n",
       "    <tr>\n",
       "        <td>1682</td>\n",
       "        <td>Z </td>\n",
       "        <td>Manhattan</td>\n",
       "    </tr>\n",
       "    <tr>\n",
       "        <td>43956</td>\n",
       "        <td>&nbsp;&nbsp;</td>\n",
       "        <td>Queens</td>\n",
       "    </tr>\n",
       "    <tr>\n",
       "        <td>35652</td>\n",
       "        <td>A </td>\n",
       "        <td>Queens</td>\n",
       "    </tr>\n",
       "    <tr>\n",
       "        <td>5455</td>\n",
       "        <td>B </td>\n",
       "        <td>Queens</td>\n",
       "    </tr>\n",
       "    <tr>\n",
       "        <td>2049</td>\n",
       "        <td>C </td>\n",
       "        <td>Queens</td>\n",
       "    </tr>\n",
       "    <tr>\n",
       "        <td>439</td>\n",
       "        <td>N </td>\n",
       "        <td>Queens</td>\n",
       "    </tr>\n",
       "    <tr>\n",
       "        <td>624</td>\n",
       "        <td>P </td>\n",
       "        <td>Queens</td>\n",
       "    </tr>\n",
       "    <tr>\n",
       "        <td>1135</td>\n",
       "        <td>Z </td>\n",
       "        <td>Queens</td>\n",
       "    </tr>\n",
       "    <tr>\n",
       "        <td>6292</td>\n",
       "        <td>&nbsp;&nbsp;</td>\n",
       "        <td>Staten Island</td>\n",
       "    </tr>\n",
       "    <tr>\n",
       "        <td>5390</td>\n",
       "        <td>A </td>\n",
       "        <td>Staten Island</td>\n",
       "    </tr>\n",
       "    <tr>\n",
       "        <td>843</td>\n",
       "        <td>B </td>\n",
       "        <td>Staten Island</td>\n",
       "    </tr>\n",
       "    <tr>\n",
       "        <td>237</td>\n",
       "        <td>C </td>\n",
       "        <td>Staten Island</td>\n",
       "    </tr>\n",
       "    <tr>\n",
       "        <td>50</td>\n",
       "        <td>N </td>\n",
       "        <td>Staten Island</td>\n",
       "    </tr>\n",
       "    <tr>\n",
       "        <td>56</td>\n",
       "        <td>P </td>\n",
       "        <td>Staten Island</td>\n",
       "    </tr>\n",
       "    <tr>\n",
       "        <td>97</td>\n",
       "        <td>Z </td>\n",
       "        <td>Staten Island</td>\n",
       "    </tr>\n",
       "</table>"
      ],
      "text/plain": [
       "[(186, '  ', '0'),\n",
       " (193, 'A ', '0'),\n",
       " (25, 'B ', '0'),\n",
       " (15, 'C ', '0'),\n",
       " (1, 'N ', '0'),\n",
       " (9, 'P ', '0'),\n",
       " (3, 'Z ', '0'),\n",
       " (19559, '  ', 'Bronx'),\n",
       " (16165, 'A ', 'Bronx'),\n",
       " (2962, 'B ', 'Bronx'),\n",
       " (1084, 'C ', 'Bronx'),\n",
       " (107, 'N ', 'Bronx'),\n",
       " (270, 'P ', 'Bronx'),\n",
       " (610, 'Z ', 'Bronx'),\n",
       " (50174, '  ', 'Brooklyn'),\n",
       " (39062, 'A ', 'Brooklyn'),\n",
       " (6546, 'B ', 'Brooklyn'),\n",
       " (2265, 'C ', 'Brooklyn'),\n",
       " (2, 'G ', 'Brooklyn'),\n",
       " (411, 'N ', 'Brooklyn'),\n",
       " (796, 'P ', 'Brooklyn'),\n",
       " (1031, 'Z ', 'Brooklyn'),\n",
       " (76269, '  ', 'Manhattan'),\n",
       " (61018, 'A ', 'Manhattan'),\n",
       " (9113, 'B ', 'Manhattan'),\n",
       " (3695, 'C ', 'Manhattan'),\n",
       " (3, 'G ', 'Manhattan'),\n",
       " (557, 'N ', 'Manhattan'),\n",
       " (936, 'P ', 'Manhattan'),\n",
       " (1682, 'Z ', 'Manhattan'),\n",
       " (43956, '  ', 'Queens'),\n",
       " (35652, 'A ', 'Queens'),\n",
       " (5455, 'B ', 'Queens'),\n",
       " (2049, 'C ', 'Queens'),\n",
       " (439, 'N ', 'Queens'),\n",
       " (624, 'P ', 'Queens'),\n",
       " (1135, 'Z ', 'Queens'),\n",
       " (6292, '  ', 'Staten Island'),\n",
       " (5390, 'A ', 'Staten Island'),\n",
       " (843, 'B ', 'Staten Island'),\n",
       " (237, 'C ', 'Staten Island'),\n",
       " (50, 'N ', 'Staten Island'),\n",
       " (56, 'P ', 'Staten Island'),\n",
       " (97, 'Z ', 'Staten Island')]"
      ]
     },
     "execution_count": 75,
     "metadata": {},
     "output_type": "execute_result"
    }
   ],
   "source": [
    "%%sql\n",
    "select count(grade),grade,district\n",
    "from nyc_inspect\n",
    "join location\n",
    "on location.key = nyc_inspect.location_key\n",
    "group by grade,district\n",
    "order by district,grade;"
   ]
  },
  {
   "cell_type": "code",
   "execution_count": 77,
   "metadata": {},
   "outputs": [
    {
     "data": {
      "text/html": [
       "<img src=\"https://raw.githubusercontent.com/Tangerinekk/DNSC6212/master/Screen%20Shot%202019-11-29%20at%2017.03.32.png?raw=TRUE\"/>"
      ],
      "text/plain": [
       "<IPython.core.display.Image object>"
      ]
     },
     "execution_count": 77,
     "metadata": {},
     "output_type": "execute_result"
    }
   ],
   "source": [
    "Image(url=\"https://raw.githubusercontent.com/Tangerinekk/DNSC6212/master/Screen%20Shot%202019-11-29%20at%2017.03.32.png?raw=TRUE\")"
   ]
  },
  {
   "cell_type": "code",
   "execution_count": null,
   "metadata": {},
   "outputs": [],
   "source": []
  }
 ],
 "metadata": {
  "kernelspec": {
   "display_name": "Python 3",
   "language": "python",
   "name": "python3"
  },
  "language_info": {
   "codemirror_mode": {
    "name": "ipython",
    "version": 3
   },
   "file_extension": ".py",
   "mimetype": "text/x-python",
   "name": "python",
   "nbconvert_exporter": "python",
   "pygments_lexer": "ipython3",
   "version": "3.5.3"
  }
 },
 "nbformat": 4,
 "nbformat_minor": 2
}
